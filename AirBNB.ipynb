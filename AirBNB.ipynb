{
  "nbformat": 4,
  "nbformat_minor": 0,
  "metadata": {
    "colab": {
      "name": "AirBNB",
      "provenance": []
    },
    "kernelspec": {
      "name": "python3",
      "display_name": "Python 3"
    },
    "language_info": {
      "name": "python"
    }
  },
  "cells": [
    {
      "cell_type": "code",
      "metadata": {
        "id": "Jz3kVAlMPYqu"
      },
      "source": [
        "import pandas as pd\n",
        "import matplotlib.pyplot as plt"
      ],
      "execution_count": 1,
      "outputs": []
    },
    {
      "cell_type": "code",
      "metadata": {
        "id": "MFJlMoPqPl9k"
      },
      "source": [
        "df = pd.read_csv('/content/airbnb prices.csv')"
      ],
      "execution_count": 2,
      "outputs": []
    },
    {
      "cell_type": "code",
      "metadata": {
        "colab": {
          "base_uri": "https://localhost:8080/",
          "height": 462
        },
        "id": "HkjjVqHcPnoZ",
        "outputId": "365b0ac2-2ab4-4915-fe9c-a98990c70aaf"
      },
      "source": [
        "df.head()"
      ],
      "execution_count": 3,
      "outputs": [
        {
          "output_type": "execute_result",
          "data": {
            "text/html": [
              "<div>\n",
              "<style scoped>\n",
              "    .dataframe tbody tr th:only-of-type {\n",
              "        vertical-align: middle;\n",
              "    }\n",
              "\n",
              "    .dataframe tbody tr th {\n",
              "        vertical-align: top;\n",
              "    }\n",
              "\n",
              "    .dataframe thead th {\n",
              "        text-align: right;\n",
              "    }\n",
              "</style>\n",
              "<table border=\"1\" class=\"dataframe\">\n",
              "  <thead>\n",
              "    <tr style=\"text-align: right;\">\n",
              "      <th></th>\n",
              "      <th>room_id</th>\n",
              "      <th>survey_id</th>\n",
              "      <th>host_id</th>\n",
              "      <th>room_type</th>\n",
              "      <th>country</th>\n",
              "      <th>city</th>\n",
              "      <th>borough</th>\n",
              "      <th>neighborhood</th>\n",
              "      <th>reviews</th>\n",
              "      <th>overall_satisfaction</th>\n",
              "      <th>accommodates</th>\n",
              "      <th>bedrooms</th>\n",
              "      <th>bathrooms</th>\n",
              "      <th>price</th>\n",
              "      <th>minstay</th>\n",
              "      <th>name</th>\n",
              "      <th>last_modified</th>\n",
              "      <th>latitude</th>\n",
              "      <th>longitude</th>\n",
              "      <th>location</th>\n",
              "    </tr>\n",
              "  </thead>\n",
              "  <tbody>\n",
              "    <tr>\n",
              "      <th>0</th>\n",
              "      <td>10176931</td>\n",
              "      <td>1476</td>\n",
              "      <td>49180562</td>\n",
              "      <td>Shared room</td>\n",
              "      <td>NaN</td>\n",
              "      <td>Amsterdam</td>\n",
              "      <td>NaN</td>\n",
              "      <td>De Pijp / Rivierenbuurt</td>\n",
              "      <td>7.0</td>\n",
              "      <td>4.5</td>\n",
              "      <td>2.0</td>\n",
              "      <td>1.0</td>\n",
              "      <td>NaN</td>\n",
              "      <td>156.0</td>\n",
              "      <td>NaN</td>\n",
              "      <td>Red Light/ Canal view apartment (Shared)</td>\n",
              "      <td>2017-07-23 13:06:27.391699</td>\n",
              "      <td>52.356209</td>\n",
              "      <td>4.887491</td>\n",
              "      <td>0101000020E610000033FAD170CA8C13403BC5AA41982D...</td>\n",
              "    </tr>\n",
              "    <tr>\n",
              "      <th>1</th>\n",
              "      <td>8935871</td>\n",
              "      <td>1476</td>\n",
              "      <td>46718394</td>\n",
              "      <td>Shared room</td>\n",
              "      <td>NaN</td>\n",
              "      <td>Amsterdam</td>\n",
              "      <td>NaN</td>\n",
              "      <td>Centrum West</td>\n",
              "      <td>45.0</td>\n",
              "      <td>4.5</td>\n",
              "      <td>4.0</td>\n",
              "      <td>1.0</td>\n",
              "      <td>NaN</td>\n",
              "      <td>126.0</td>\n",
              "      <td>NaN</td>\n",
              "      <td>Sunny and Cozy Living room in quite neighbours</td>\n",
              "      <td>2017-07-23 13:06:23.607187</td>\n",
              "      <td>52.378518</td>\n",
              "      <td>4.896120</td>\n",
              "      <td>0101000020E6100000842A357BA095134042791F477330...</td>\n",
              "    </tr>\n",
              "    <tr>\n",
              "      <th>2</th>\n",
              "      <td>14011697</td>\n",
              "      <td>1476</td>\n",
              "      <td>10346595</td>\n",
              "      <td>Shared room</td>\n",
              "      <td>NaN</td>\n",
              "      <td>Amsterdam</td>\n",
              "      <td>NaN</td>\n",
              "      <td>Watergraafsmeer</td>\n",
              "      <td>1.0</td>\n",
              "      <td>0.0</td>\n",
              "      <td>3.0</td>\n",
              "      <td>1.0</td>\n",
              "      <td>NaN</td>\n",
              "      <td>132.0</td>\n",
              "      <td>NaN</td>\n",
              "      <td>Amsterdam</td>\n",
              "      <td>2017-07-23 13:06:23.603546</td>\n",
              "      <td>52.338811</td>\n",
              "      <td>4.943592</td>\n",
              "      <td>0101000020E6100000A51133FB3CC613403543AA285E2B...</td>\n",
              "    </tr>\n",
              "    <tr>\n",
              "      <th>3</th>\n",
              "      <td>6137978</td>\n",
              "      <td>1476</td>\n",
              "      <td>8685430</td>\n",
              "      <td>Shared room</td>\n",
              "      <td>NaN</td>\n",
              "      <td>Amsterdam</td>\n",
              "      <td>NaN</td>\n",
              "      <td>Centrum West</td>\n",
              "      <td>7.0</td>\n",
              "      <td>5.0</td>\n",
              "      <td>4.0</td>\n",
              "      <td>1.0</td>\n",
              "      <td>NaN</td>\n",
              "      <td>121.0</td>\n",
              "      <td>NaN</td>\n",
              "      <td>Canal boat RIDE in Amsterdam</td>\n",
              "      <td>2017-07-23 13:06:22.689787</td>\n",
              "      <td>52.376319</td>\n",
              "      <td>4.890028</td>\n",
              "      <td>0101000020E6100000DF180280638F134085EE92382B30...</td>\n",
              "    </tr>\n",
              "    <tr>\n",
              "      <th>4</th>\n",
              "      <td>18630616</td>\n",
              "      <td>1476</td>\n",
              "      <td>70191803</td>\n",
              "      <td>Shared room</td>\n",
              "      <td>NaN</td>\n",
              "      <td>Amsterdam</td>\n",
              "      <td>NaN</td>\n",
              "      <td>De Baarsjes / Oud West</td>\n",
              "      <td>1.0</td>\n",
              "      <td>0.0</td>\n",
              "      <td>2.0</td>\n",
              "      <td>1.0</td>\n",
              "      <td>NaN</td>\n",
              "      <td>93.0</td>\n",
              "      <td>NaN</td>\n",
              "      <td>One room for rent in a three room appartment</td>\n",
              "      <td>2017-07-23 13:06:19.681469</td>\n",
              "      <td>52.370384</td>\n",
              "      <td>4.852873</td>\n",
              "      <td>0101000020E6100000CD902A8A57691340187B2FBE682F...</td>\n",
              "    </tr>\n",
              "  </tbody>\n",
              "</table>\n",
              "</div>"
            ],
            "text/plain": [
              "    room_id  ...                                           location\n",
              "0  10176931  ...  0101000020E610000033FAD170CA8C13403BC5AA41982D...\n",
              "1   8935871  ...  0101000020E6100000842A357BA095134042791F477330...\n",
              "2  14011697  ...  0101000020E6100000A51133FB3CC613403543AA285E2B...\n",
              "3   6137978  ...  0101000020E6100000DF180280638F134085EE92382B30...\n",
              "4  18630616  ...  0101000020E6100000CD902A8A57691340187B2FBE682F...\n",
              "\n",
              "[5 rows x 20 columns]"
            ]
          },
          "metadata": {
            "tags": []
          },
          "execution_count": 3
        }
      ]
    },
    {
      "cell_type": "markdown",
      "metadata": {
        "id": "WQbxTK57LsMM"
      },
      "source": [
        "### Dropping unused columns"
      ]
    },
    {
      "cell_type": "code",
      "metadata": {
        "id": "nvTIlv2EPzIN"
      },
      "source": [
        "df = df.drop(['country','borough','minstay'],axis=1)"
      ],
      "execution_count": 4,
      "outputs": []
    },
    {
      "cell_type": "markdown",
      "metadata": {
        "id": "OSDca8zaLdnh"
      },
      "source": [
        "### Types of Room available: Shared, Entire home and Private room\n"
      ]
    },
    {
      "cell_type": "code",
      "metadata": {
        "colab": {
          "base_uri": "https://localhost:8080/"
        },
        "id": "9AuXV3xvP6gh",
        "outputId": "152d3298-4da3-4993-8d99-05a1265e5f09"
      },
      "source": [
        "df.room_type.unique()"
      ],
      "execution_count": 5,
      "outputs": [
        {
          "output_type": "execute_result",
          "data": {
            "text/plain": [
              "array(['Shared room', 'Entire home/apt'], dtype=object)"
            ]
          },
          "metadata": {
            "tags": []
          },
          "execution_count": 5
        }
      ]
    },
    {
      "cell_type": "markdown",
      "metadata": {
        "id": "92twubzhQIJQ"
      },
      "source": [
        "### Removing shared room type as they are very low "
      ]
    },
    {
      "cell_type": "code",
      "metadata": {
        "colab": {
          "base_uri": "https://localhost:8080/"
        },
        "id": "Cpb8r-a2QDuE",
        "outputId": "33499ad8-fcad-4cdd-a417-369f0ea7106a"
      },
      "source": [
        "df.room_type.value_counts()"
      ],
      "execution_count": 6,
      "outputs": [
        {
          "output_type": "execute_result",
          "data": {
            "text/plain": [
              "Entire home/apt    9258\n",
              "Shared room          63\n",
              "Name: room_type, dtype: int64"
            ]
          },
          "metadata": {
            "tags": []
          },
          "execution_count": 6
        }
      ]
    },
    {
      "cell_type": "code",
      "metadata": {
        "id": "hASVGAvnQKjN"
      },
      "source": [
        "df = df[df.room_type != \"Shared room\"]"
      ],
      "execution_count": 7,
      "outputs": []
    },
    {
      "cell_type": "code",
      "metadata": {
        "colab": {
          "base_uri": "https://localhost:8080/"
        },
        "id": "S2TTilodQVoa",
        "outputId": "d9e63fe4-cf8f-4788-ae6c-2ffc50a0c59a"
      },
      "source": [
        "df.room_type.value_counts()"
      ],
      "execution_count": 8,
      "outputs": [
        {
          "output_type": "execute_result",
          "data": {
            "text/plain": [
              "Entire home/apt    9258\n",
              "Name: room_type, dtype: int64"
            ]
          },
          "metadata": {
            "tags": []
          },
          "execution_count": 8
        }
      ]
    },
    {
      "cell_type": "markdown",
      "metadata": {
        "id": "erwvXNiaQcG1"
      },
      "source": [
        "### Popularity of different neighbourhoods\n"
      ]
    },
    {
      "cell_type": "code",
      "metadata": {
        "colab": {
          "base_uri": "https://localhost:8080/"
        },
        "id": "Rv0iHE0LQXiP",
        "outputId": "bd4fb25d-819a-4e45-aa33-94b44d155cc4"
      },
      "source": [
        "df.neighborhood.value_counts()"
      ],
      "execution_count": 9,
      "outputs": [
        {
          "output_type": "execute_result",
          "data": {
            "text/plain": [
              "De Baarsjes / Oud West                    1691\n",
              "De Pijp / Rivierenbuurt                   1393\n",
              "Centrum West                              1297\n",
              "Centrum Oost                              1015\n",
              "Noord-West / Noord-Midden                  849\n",
              "Westerpark                                 639\n",
              "Oud Oost                                   491\n",
              "Bos en Lommer                              351\n",
              "Oostelijk Havengebied / Indische Buurt     309\n",
              "Watergraafsmeer                            226\n",
              "Ijburg / Eiland Zeeburg                    217\n",
              "Oud Noord                                  191\n",
              "Slotervaart                                138\n",
              "Buitenveldert / Zuidas                     110\n",
              "Noord Oost                                  80\n",
              "Noord West                                  77\n",
              "Osdorp                                      51\n",
              "Geuzenveld / Slotermeer                     41\n",
              "De Aker / Nieuw Sloten                      38\n",
              "Bijlmer Oost                                23\n",
              "Bijlmer Centrum                             17\n",
              "Gaasperdam / Driemond                       10\n",
              "Westpoort                                    3\n",
              "De Baarsjes                                  1\n",
              "Name: neighborhood, dtype: int64"
            ]
          },
          "metadata": {
            "tags": []
          },
          "execution_count": 9
        }
      ]
    },
    {
      "cell_type": "markdown",
      "metadata": {
        "id": "U9Rr01EDQsLW"
      },
      "source": [
        "### No. of records for which reviews are 0 or 1"
      ]
    },
    {
      "cell_type": "code",
      "metadata": {
        "colab": {
          "base_uri": "https://localhost:8080/"
        },
        "id": "eyZsdhMBQeSO",
        "outputId": "32d620fb-8716-4b76-8c63-1e45c1803c73"
      },
      "source": [
        "df.room_id[df['reviews']  == 0].count()"
      ],
      "execution_count": 10,
      "outputs": [
        {
          "output_type": "execute_result",
          "data": {
            "text/plain": [
              "1651"
            ]
          },
          "metadata": {
            "tags": []
          },
          "execution_count": 10
        }
      ]
    },
    {
      "cell_type": "code",
      "metadata": {
        "colab": {
          "base_uri": "https://localhost:8080/"
        },
        "id": "NWtQ9o5nQuTO",
        "outputId": "ef3458c7-1b11-4da4-827a-76a4b51cd8d8"
      },
      "source": [
        "df.room_id[df['reviews']  == 1].count()"
      ],
      "execution_count": 11,
      "outputs": [
        {
          "output_type": "execute_result",
          "data": {
            "text/plain": [
              "743"
            ]
          },
          "metadata": {
            "tags": []
          },
          "execution_count": 11
        }
      ]
    },
    {
      "cell_type": "markdown",
      "metadata": {
        "id": "B1zRAmFoQzyi"
      },
      "source": [
        "### Overall satisfaction by each rating"
      ]
    },
    {
      "cell_type": "code",
      "metadata": {
        "colab": {
          "base_uri": "https://localhost:8080/"
        },
        "id": "aco7T3y5QwW-",
        "outputId": "b83f031b-57b9-41f3-86ad-a6b485f95ab8"
      },
      "source": [
        "df['overall_satisfaction'].value_counts()"
      ],
      "execution_count": 12,
      "outputs": [
        {
          "output_type": "execute_result",
          "data": {
            "text/plain": [
              "5.0    3983\n",
              "0.0    3036\n",
              "4.5    1967\n",
              "4.0     225\n",
              "3.5      37\n",
              "3.0       8\n",
              "2.5       1\n",
              "Name: overall_satisfaction, dtype: int64"
            ]
          },
          "metadata": {
            "tags": []
          },
          "execution_count": 12
        }
      ]
    },
    {
      "cell_type": "markdown",
      "metadata": {
        "id": "0MHz2P8SQ47X"
      },
      "source": [
        "### Sub dataframe where overall satisfaction is 0"
      ]
    },
    {
      "cell_type": "code",
      "metadata": {
        "id": "e5R30jrKQ2Ds"
      },
      "source": [
        "zero_satisfaction = df[df['overall_satisfaction'] == 0]"
      ],
      "execution_count": 13,
      "outputs": []
    },
    {
      "cell_type": "code",
      "metadata": {
        "colab": {
          "base_uri": "https://localhost:8080/",
          "height": 898
        },
        "id": "zIDKKOMQQ7lK",
        "outputId": "8e5b1513-efb6-4273-fbdd-b3ea30441266"
      },
      "source": [
        "zero_satisfaction"
      ],
      "execution_count": 14,
      "outputs": [
        {
          "output_type": "execute_result",
          "data": {
            "text/html": [
              "<div>\n",
              "<style scoped>\n",
              "    .dataframe tbody tr th:only-of-type {\n",
              "        vertical-align: middle;\n",
              "    }\n",
              "\n",
              "    .dataframe tbody tr th {\n",
              "        vertical-align: top;\n",
              "    }\n",
              "\n",
              "    .dataframe thead th {\n",
              "        text-align: right;\n",
              "    }\n",
              "</style>\n",
              "<table border=\"1\" class=\"dataframe\">\n",
              "  <thead>\n",
              "    <tr style=\"text-align: right;\">\n",
              "      <th></th>\n",
              "      <th>room_id</th>\n",
              "      <th>survey_id</th>\n",
              "      <th>host_id</th>\n",
              "      <th>room_type</th>\n",
              "      <th>city</th>\n",
              "      <th>neighborhood</th>\n",
              "      <th>reviews</th>\n",
              "      <th>overall_satisfaction</th>\n",
              "      <th>accommodates</th>\n",
              "      <th>bedrooms</th>\n",
              "      <th>bathrooms</th>\n",
              "      <th>price</th>\n",
              "      <th>name</th>\n",
              "      <th>last_modified</th>\n",
              "      <th>latitude</th>\n",
              "      <th>longitude</th>\n",
              "      <th>location</th>\n",
              "    </tr>\n",
              "  </thead>\n",
              "  <tbody>\n",
              "    <tr>\n",
              "      <th>34</th>\n",
              "      <td>3119298</td>\n",
              "      <td>1476</td>\n",
              "      <td>15847782</td>\n",
              "      <td>Entire home/apt</td>\n",
              "      <td>Amsterdam</td>\n",
              "      <td>Westerpark</td>\n",
              "      <td>1.0</td>\n",
              "      <td>0.0</td>\n",
              "      <td>8.0</td>\n",
              "      <td>3.0</td>\n",
              "      <td>NaN</td>\n",
              "      <td>445.0</td>\n",
              "      <td>Modern 5-8 person apartment</td>\n",
              "      <td>2017-07-23 12:58:15.945759</td>\n",
              "      <td>52.377581</td>\n",
              "      <td>4.873119</td>\n",
              "      <td>0101000020E61000009D103AE8127E1340A54BFF925430...</td>\n",
              "    </tr>\n",
              "    <tr>\n",
              "      <th>36</th>\n",
              "      <td>10511291</td>\n",
              "      <td>1476</td>\n",
              "      <td>5421078</td>\n",
              "      <td>Entire home/apt</td>\n",
              "      <td>Amsterdam</td>\n",
              "      <td>Watergraafsmeer</td>\n",
              "      <td>1.0</td>\n",
              "      <td>0.0</td>\n",
              "      <td>8.0</td>\n",
              "      <td>3.0</td>\n",
              "      <td>NaN</td>\n",
              "      <td>1412.0</td>\n",
              "      <td>Whole house 200m2 Frankendael Park</td>\n",
              "      <td>2017-07-23 12:30:42.249974</td>\n",
              "      <td>52.350968</td>\n",
              "      <td>4.929821</td>\n",
              "      <td>0101000020E61000003B8908FF22B81340A5F8F884EC2C...</td>\n",
              "    </tr>\n",
              "    <tr>\n",
              "      <th>37</th>\n",
              "      <td>18047871</td>\n",
              "      <td>1476</td>\n",
              "      <td>9302267</td>\n",
              "      <td>Entire home/apt</td>\n",
              "      <td>Amsterdam</td>\n",
              "      <td>Centrum West</td>\n",
              "      <td>0.0</td>\n",
              "      <td>0.0</td>\n",
              "      <td>4.0</td>\n",
              "      <td>4.0</td>\n",
              "      <td>NaN</td>\n",
              "      <td>541.0</td>\n",
              "      <td>Great 4 bedroom apartment at the flower market</td>\n",
              "      <td>2017-07-23 12:30:27.637777</td>\n",
              "      <td>52.367890</td>\n",
              "      <td>4.889273</td>\n",
              "      <td>0101000020E6100000FDDCD0949D8E13404243FF04172F...</td>\n",
              "    </tr>\n",
              "    <tr>\n",
              "      <th>38</th>\n",
              "      <td>7468232</td>\n",
              "      <td>1476</td>\n",
              "      <td>7215538</td>\n",
              "      <td>Entire home/apt</td>\n",
              "      <td>Amsterdam</td>\n",
              "      <td>Noord-West / Noord-Midden</td>\n",
              "      <td>2.0</td>\n",
              "      <td>0.0</td>\n",
              "      <td>4.0</td>\n",
              "      <td>2.0</td>\n",
              "      <td>NaN</td>\n",
              "      <td>594.0</td>\n",
              "      <td>MuseumSquare apartment with garden</td>\n",
              "      <td>2017-07-23 12:30:27.627216</td>\n",
              "      <td>52.355169</td>\n",
              "      <td>4.883219</td>\n",
              "      <td>0101000020E6100000C4D2C08F6A881340C9C6832D762D...</td>\n",
              "    </tr>\n",
              "    <tr>\n",
              "      <th>40</th>\n",
              "      <td>5818567</td>\n",
              "      <td>1476</td>\n",
              "      <td>29561840</td>\n",
              "      <td>Entire home/apt</td>\n",
              "      <td>Amsterdam</td>\n",
              "      <td>De Aker / Nieuw Sloten</td>\n",
              "      <td>0.0</td>\n",
              "      <td>0.0</td>\n",
              "      <td>4.0</td>\n",
              "      <td>2.0</td>\n",
              "      <td>NaN</td>\n",
              "      <td>361.0</td>\n",
              "      <td>Luxurous, modern, bright appartment</td>\n",
              "      <td>2017-07-23 12:29:20.728096</td>\n",
              "      <td>52.346007</td>\n",
              "      <td>4.811830</td>\n",
              "      <td>0101000020E61000008FA50F5D503F1340F29716F5492C...</td>\n",
              "    </tr>\n",
              "    <tr>\n",
              "      <th>...</th>\n",
              "      <td>...</td>\n",
              "      <td>...</td>\n",
              "      <td>...</td>\n",
              "      <td>...</td>\n",
              "      <td>...</td>\n",
              "      <td>...</td>\n",
              "      <td>...</td>\n",
              "      <td>...</td>\n",
              "      <td>...</td>\n",
              "      <td>...</td>\n",
              "      <td>...</td>\n",
              "      <td>...</td>\n",
              "      <td>...</td>\n",
              "      <td>...</td>\n",
              "      <td>...</td>\n",
              "      <td>...</td>\n",
              "      <td>...</td>\n",
              "    </tr>\n",
              "    <tr>\n",
              "      <th>9292</th>\n",
              "      <td>18497505</td>\n",
              "      <td>1476</td>\n",
              "      <td>65859990</td>\n",
              "      <td>Entire home/apt</td>\n",
              "      <td>Amsterdam</td>\n",
              "      <td>De Pijp / Rivierenbuurt</td>\n",
              "      <td>1.0</td>\n",
              "      <td>0.0</td>\n",
              "      <td>4.0</td>\n",
              "      <td>1.0</td>\n",
              "      <td>NaN</td>\n",
              "      <td>125.0</td>\n",
              "      <td>Cosy and trendy APT in buzzing De Pijp district!</td>\n",
              "      <td>2017-07-22 20:08:54.332313</td>\n",
              "      <td>52.349503</td>\n",
              "      <td>4.889673</td>\n",
              "      <td>0101000020E61000006E895C70068F13404C6DA983BC2C...</td>\n",
              "    </tr>\n",
              "    <tr>\n",
              "      <th>9294</th>\n",
              "      <td>13163462</td>\n",
              "      <td>1476</td>\n",
              "      <td>45115094</td>\n",
              "      <td>Entire home/apt</td>\n",
              "      <td>Amsterdam</td>\n",
              "      <td>De Pijp / Rivierenbuurt</td>\n",
              "      <td>1.0</td>\n",
              "      <td>0.0</td>\n",
              "      <td>2.0</td>\n",
              "      <td>1.0</td>\n",
              "      <td>NaN</td>\n",
              "      <td>144.0</td>\n",
              "      <td>Lovely apartment in trendy area of Amsterdam!</td>\n",
              "      <td>2017-07-22 20:08:54.326358</td>\n",
              "      <td>52.354991</td>\n",
              "      <td>4.899683</td>\n",
              "      <td>0101000020E61000009411178046991340EAAF5758702D...</td>\n",
              "    </tr>\n",
              "    <tr>\n",
              "      <th>9295</th>\n",
              "      <td>10309998</td>\n",
              "      <td>1476</td>\n",
              "      <td>25800393</td>\n",
              "      <td>Entire home/apt</td>\n",
              "      <td>Amsterdam</td>\n",
              "      <td>De Pijp / Rivierenbuurt</td>\n",
              "      <td>2.0</td>\n",
              "      <td>0.0</td>\n",
              "      <td>2.0</td>\n",
              "      <td>1.0</td>\n",
              "      <td>NaN</td>\n",
              "      <td>144.0</td>\n",
              "      <td>\"Boven het Plein\" 2 rooms, kitchen &amp; Badroom</td>\n",
              "      <td>2017-07-22 20:08:54.323718</td>\n",
              "      <td>52.351199</td>\n",
              "      <td>4.894983</td>\n",
              "      <td>0101000020E610000064E76D6C76941340A7B1BD16F42C...</td>\n",
              "    </tr>\n",
              "    <tr>\n",
              "      <th>9296</th>\n",
              "      <td>7167905</td>\n",
              "      <td>1476</td>\n",
              "      <td>18261939</td>\n",
              "      <td>Entire home/apt</td>\n",
              "      <td>Amsterdam</td>\n",
              "      <td>Noord-West / Noord-Midden</td>\n",
              "      <td>2.0</td>\n",
              "      <td>0.0</td>\n",
              "      <td>2.0</td>\n",
              "      <td>1.0</td>\n",
              "      <td>NaN</td>\n",
              "      <td>132.0</td>\n",
              "      <td>Bright app. close to Museum quarter</td>\n",
              "      <td>2017-07-22 20:08:54.318802</td>\n",
              "      <td>52.352727</td>\n",
              "      <td>4.883391</td>\n",
              "      <td>0101000020E6100000AC527AA69788134046B58828262D...</td>\n",
              "    </tr>\n",
              "    <tr>\n",
              "      <th>9311</th>\n",
              "      <td>19578749</td>\n",
              "      <td>1476</td>\n",
              "      <td>39506521</td>\n",
              "      <td>Entire home/apt</td>\n",
              "      <td>Amsterdam</td>\n",
              "      <td>De Baarsjes / Oud West</td>\n",
              "      <td>0.0</td>\n",
              "      <td>0.0</td>\n",
              "      <td>3.0</td>\n",
              "      <td>1.0</td>\n",
              "      <td>NaN</td>\n",
              "      <td>144.0</td>\n",
              "      <td>Bright, central apartment in the Barsjes</td>\n",
              "      <td>2017-07-22 20:27:11.215993</td>\n",
              "      <td>52.364929</td>\n",
              "      <td>4.851987</td>\n",
              "      <td>0101000020E6100000F777B6476F681340552E54FEB52E...</td>\n",
              "    </tr>\n",
              "  </tbody>\n",
              "</table>\n",
              "<p>3036 rows × 17 columns</p>\n",
              "</div>"
            ],
            "text/plain": [
              "       room_id  ...                                           location\n",
              "34     3119298  ...  0101000020E61000009D103AE8127E1340A54BFF925430...\n",
              "36    10511291  ...  0101000020E61000003B8908FF22B81340A5F8F884EC2C...\n",
              "37    18047871  ...  0101000020E6100000FDDCD0949D8E13404243FF04172F...\n",
              "38     7468232  ...  0101000020E6100000C4D2C08F6A881340C9C6832D762D...\n",
              "40     5818567  ...  0101000020E61000008FA50F5D503F1340F29716F5492C...\n",
              "...        ...  ...                                                ...\n",
              "9292  18497505  ...  0101000020E61000006E895C70068F13404C6DA983BC2C...\n",
              "9294  13163462  ...  0101000020E61000009411178046991340EAAF5758702D...\n",
              "9295  10309998  ...  0101000020E610000064E76D6C76941340A7B1BD16F42C...\n",
              "9296   7167905  ...  0101000020E6100000AC527AA69788134046B58828262D...\n",
              "9311  19578749  ...  0101000020E6100000F777B6476F681340552E54FEB52E...\n",
              "\n",
              "[3036 rows x 17 columns]"
            ]
          },
          "metadata": {
            "tags": []
          },
          "execution_count": 14
        }
      ]
    },
    {
      "cell_type": "code",
      "metadata": {
        "colab": {
          "base_uri": "https://localhost:8080/",
          "height": 317
        },
        "id": "ot11BGBfQ9JQ",
        "outputId": "ad902a28-61db-4b78-b34c-c2e761aab93a"
      },
      "source": [
        "zero_satisfaction.describe()"
      ],
      "execution_count": 15,
      "outputs": [
        {
          "output_type": "execute_result",
          "data": {
            "text/html": [
              "<div>\n",
              "<style scoped>\n",
              "    .dataframe tbody tr th:only-of-type {\n",
              "        vertical-align: middle;\n",
              "    }\n",
              "\n",
              "    .dataframe tbody tr th {\n",
              "        vertical-align: top;\n",
              "    }\n",
              "\n",
              "    .dataframe thead th {\n",
              "        text-align: right;\n",
              "    }\n",
              "</style>\n",
              "<table border=\"1\" class=\"dataframe\">\n",
              "  <thead>\n",
              "    <tr style=\"text-align: right;\">\n",
              "      <th></th>\n",
              "      <th>room_id</th>\n",
              "      <th>survey_id</th>\n",
              "      <th>host_id</th>\n",
              "      <th>reviews</th>\n",
              "      <th>overall_satisfaction</th>\n",
              "      <th>accommodates</th>\n",
              "      <th>bedrooms</th>\n",
              "      <th>bathrooms</th>\n",
              "      <th>price</th>\n",
              "      <th>latitude</th>\n",
              "      <th>longitude</th>\n",
              "    </tr>\n",
              "  </thead>\n",
              "  <tbody>\n",
              "    <tr>\n",
              "      <th>count</th>\n",
              "      <td>3.036000e+03</td>\n",
              "      <td>3036.0</td>\n",
              "      <td>3.036000e+03</td>\n",
              "      <td>3036.000000</td>\n",
              "      <td>3036.0</td>\n",
              "      <td>3036.000000</td>\n",
              "      <td>3036.000000</td>\n",
              "      <td>0.0</td>\n",
              "      <td>3036.000000</td>\n",
              "      <td>3036.000000</td>\n",
              "      <td>3036.000000</td>\n",
              "    </tr>\n",
              "    <tr>\n",
              "      <th>mean</th>\n",
              "      <td>1.473307e+07</td>\n",
              "      <td>1476.0</td>\n",
              "      <td>4.630192e+07</td>\n",
              "      <td>0.669960</td>\n",
              "      <td>0.0</td>\n",
              "      <td>3.541173</td>\n",
              "      <td>1.902833</td>\n",
              "      <td>NaN</td>\n",
              "      <td>232.310935</td>\n",
              "      <td>52.363553</td>\n",
              "      <td>4.889450</td>\n",
              "    </tr>\n",
              "    <tr>\n",
              "      <th>std</th>\n",
              "      <td>5.240895e+06</td>\n",
              "      <td>0.0</td>\n",
              "      <td>4.465050e+07</td>\n",
              "      <td>0.810414</td>\n",
              "      <td>0.0</td>\n",
              "      <td>1.412331</td>\n",
              "      <td>1.016233</td>\n",
              "      <td>NaN</td>\n",
              "      <td>169.571609</td>\n",
              "      <td>0.014842</td>\n",
              "      <td>0.035322</td>\n",
              "    </tr>\n",
              "    <tr>\n",
              "      <th>min</th>\n",
              "      <td>5.102500e+04</td>\n",
              "      <td>1476.0</td>\n",
              "      <td>2.234000e+03</td>\n",
              "      <td>0.000000</td>\n",
              "      <td>0.0</td>\n",
              "      <td>1.000000</td>\n",
              "      <td>0.000000</td>\n",
              "      <td>NaN</td>\n",
              "      <td>57.000000</td>\n",
              "      <td>52.296200</td>\n",
              "      <td>4.772822</td>\n",
              "    </tr>\n",
              "    <tr>\n",
              "      <th>25%</th>\n",
              "      <td>1.174803e+07</td>\n",
              "      <td>1476.0</td>\n",
              "      <td>9.432606e+06</td>\n",
              "      <td>0.000000</td>\n",
              "      <td>0.0</td>\n",
              "      <td>2.000000</td>\n",
              "      <td>1.000000</td>\n",
              "      <td>NaN</td>\n",
              "      <td>167.000000</td>\n",
              "      <td>52.353352</td>\n",
              "      <td>4.864746</td>\n",
              "    </tr>\n",
              "    <tr>\n",
              "      <th>50%</th>\n",
              "      <td>1.646518e+07</td>\n",
              "      <td>1476.0</td>\n",
              "      <td>2.800595e+07</td>\n",
              "      <td>0.000000</td>\n",
              "      <td>0.0</td>\n",
              "      <td>4.000000</td>\n",
              "      <td>2.000000</td>\n",
              "      <td>NaN</td>\n",
              "      <td>192.000000</td>\n",
              "      <td>52.362567</td>\n",
              "      <td>4.886865</td>\n",
              "    </tr>\n",
              "    <tr>\n",
              "      <th>75%</th>\n",
              "      <td>1.913786e+07</td>\n",
              "      <td>1476.0</td>\n",
              "      <td>7.520661e+07</td>\n",
              "      <td>1.000000</td>\n",
              "      <td>0.0</td>\n",
              "      <td>4.000000</td>\n",
              "      <td>2.000000</td>\n",
              "      <td>NaN</td>\n",
              "      <td>250.500000</td>\n",
              "      <td>52.373200</td>\n",
              "      <td>4.905233</td>\n",
              "    </tr>\n",
              "    <tr>\n",
              "      <th>max</th>\n",
              "      <td>2.000373e+07</td>\n",
              "      <td>1476.0</td>\n",
              "      <td>1.418319e+08</td>\n",
              "      <td>5.000000</td>\n",
              "      <td>0.0</td>\n",
              "      <td>16.000000</td>\n",
              "      <td>10.000000</td>\n",
              "      <td>NaN</td>\n",
              "      <td>6000.000000</td>\n",
              "      <td>52.424980</td>\n",
              "      <td>5.013075</td>\n",
              "    </tr>\n",
              "  </tbody>\n",
              "</table>\n",
              "</div>"
            ],
            "text/plain": [
              "            room_id  survey_id  ...     latitude    longitude\n",
              "count  3.036000e+03     3036.0  ...  3036.000000  3036.000000\n",
              "mean   1.473307e+07     1476.0  ...    52.363553     4.889450\n",
              "std    5.240895e+06        0.0  ...     0.014842     0.035322\n",
              "min    5.102500e+04     1476.0  ...    52.296200     4.772822\n",
              "25%    1.174803e+07     1476.0  ...    52.353352     4.864746\n",
              "50%    1.646518e+07     1476.0  ...    52.362567     4.886865\n",
              "75%    1.913786e+07     1476.0  ...    52.373200     4.905233\n",
              "max    2.000373e+07     1476.0  ...    52.424980     5.013075\n",
              "\n",
              "[8 rows x 11 columns]"
            ]
          },
          "metadata": {
            "tags": []
          },
          "execution_count": 15
        }
      ]
    },
    {
      "cell_type": "markdown",
      "metadata": {
        "id": "H6fO2_C3RCR6"
      },
      "source": [
        "### Overall satisfaction for different no. of bedrooms"
      ]
    },
    {
      "cell_type": "code",
      "metadata": {
        "colab": {
          "base_uri": "https://localhost:8080/"
        },
        "id": "hWCX35-JQ_M6",
        "outputId": "39646719-9624-4375-9e31-6e170b15a890"
      },
      "source": [
        "overall_satisfaction = df['overall_satisfaction'].groupby(by=df['bedrooms'])\n",
        "overall_satisfaction.sum()"
      ],
      "execution_count": 16,
      "outputs": [
        {
          "output_type": "execute_result",
          "data": {
            "text/plain": [
              "bedrooms\n",
              "0.0       943.5\n",
              "1.0     12948.5\n",
              "2.0     10895.5\n",
              "3.0      3507.0\n",
              "4.0      1196.0\n",
              "5.0       223.5\n",
              "6.0        65.5\n",
              "7.0         9.5\n",
              "8.0         9.0\n",
              "9.0         5.0\n",
              "10.0       19.5\n",
              "Name: overall_satisfaction, dtype: float64"
            ]
          },
          "metadata": {
            "tags": []
          },
          "execution_count": 16
        }
      ]
    },
    {
      "cell_type": "markdown",
      "metadata": {
        "id": "DjN7GYy3RYFC"
      },
      "source": [
        "### Overall satisfaction where price greater than equal to 150 and less than 180"
      ]
    },
    {
      "cell_type": "code",
      "metadata": {
        "colab": {
          "base_uri": "https://localhost:8080/"
        },
        "id": "pWrh9tEqRFuD",
        "outputId": "0c1e6702-f877-4dad-c101-85a5f225f357"
      },
      "source": [
        "df.overall_satisfaction[df['price'].between(150,179, inclusive=True)].count()"
      ],
      "execution_count": 17,
      "outputs": [
        {
          "output_type": "execute_result",
          "data": {
            "text/plain": [
              "2550"
            ]
          },
          "metadata": {
            "tags": []
          },
          "execution_count": 17
        }
      ]
    },
    {
      "cell_type": "markdown",
      "metadata": {
        "id": "fEyICRg6Rfj4"
      },
      "source": [
        "### To see where is the most availability in terms of accomodates"
      ]
    },
    {
      "cell_type": "code",
      "metadata": {
        "colab": {
          "base_uri": "https://localhost:8080/"
        },
        "id": "6P5RRiQbRahZ",
        "outputId": "50ffd100-f09e-4f82-9042-198e266c4a1a"
      },
      "source": [
        "df['accommodates'].value_counts()"
      ],
      "execution_count": 18,
      "outputs": [
        {
          "output_type": "execute_result",
          "data": {
            "text/plain": [
              "4.0     4276\n",
              "2.0     3167\n",
              "3.0      792\n",
              "6.0      421\n",
              "5.0      393\n",
              "8.0       96\n",
              "7.0       43\n",
              "16.0      17\n",
              "10.0      14\n",
              "1.0       12\n",
              "12.0       9\n",
              "9.0        7\n",
              "14.0       6\n",
              "11.0       2\n",
              "13.0       1\n",
              "17.0       1\n",
              "Name: accommodates, dtype: int64"
            ]
          },
          "metadata": {
            "tags": []
          },
          "execution_count": 18
        }
      ]
    },
    {
      "cell_type": "markdown",
      "metadata": {
        "id": "XK8Tm4VPRnTx"
      },
      "source": [
        "### To see at what price most properties are available"
      ]
    },
    {
      "cell_type": "code",
      "metadata": {
        "colab": {
          "base_uri": "https://localhost:8080/"
        },
        "id": "hkryBLT3Rh24",
        "outputId": "cc34a129-5a54-46c4-cd69-f853760fb7bc"
      },
      "source": [
        "df['price'].describe()"
      ],
      "execution_count": 19,
      "outputs": [
        {
          "output_type": "execute_result",
          "data": {
            "text/plain": [
              "count    9257.000000\n",
              "mean      223.731879\n",
              "std       127.803368\n",
              "min        42.000000\n",
              "25%       162.000000\n",
              "50%       190.000000\n",
              "75%       240.000000\n",
              "max      6000.000000\n",
              "Name: price, dtype: float64"
            ]
          },
          "metadata": {
            "tags": []
          },
          "execution_count": 19
        }
      ]
    },
    {
      "cell_type": "markdown",
      "metadata": {
        "id": "3v8G4NJbRrKG"
      },
      "source": [
        "#### Only 23 records have price greater than 1000"
      ]
    },
    {
      "cell_type": "code",
      "metadata": {
        "colab": {
          "base_uri": "https://localhost:8080/"
        },
        "id": "byCovwxORqEh",
        "outputId": "a111b0d7-6bd3-440f-c990-ef934e7de512"
      },
      "source": [
        "df.price[df['price'].between(1000,6000, inclusive=True)].count()"
      ],
      "execution_count": 20,
      "outputs": [
        {
          "output_type": "execute_result",
          "data": {
            "text/plain": [
              "23"
            ]
          },
          "metadata": {
            "tags": []
          },
          "execution_count": 20
        }
      ]
    },
    {
      "cell_type": "markdown",
      "metadata": {
        "id": "z_UKi_BBRzAp"
      },
      "source": [
        "### Proportion of each bedroom value"
      ]
    },
    {
      "cell_type": "code",
      "metadata": {
        "colab": {
          "base_uri": "https://localhost:8080/"
        },
        "id": "LlkV5YPdRvpx",
        "outputId": "0499fc2b-5af7-4b94-ebef-51a86823967d"
      },
      "source": [
        "df_bedroom = df['bedrooms']\n",
        "df_count = df_bedroom.groupby([df['bedrooms']]).count()\n",
        "df_sum = df_count.sum()\n",
        "df_groups = df_count.apply(lambda x: 100*x/df_sum)\n",
        "df_groups"
      ],
      "execution_count": 21,
      "outputs": [
        {
          "output_type": "execute_result",
          "data": {
            "text/plain": [
              "bedrooms\n",
              "0.0      3.208383\n",
              "1.0     41.071621\n",
              "2.0     36.242843\n",
              "3.0     13.762558\n",
              "4.0      4.709949\n",
              "5.0      0.669763\n",
              "6.0      0.194447\n",
              "7.0      0.032408\n",
              "8.0      0.032408\n",
              "9.0      0.021605\n",
              "10.0     0.054013\n",
              "Name: bedrooms, dtype: float64"
            ]
          },
          "metadata": {
            "tags": []
          },
          "execution_count": 21
        }
      ]
    },
    {
      "cell_type": "markdown",
      "metadata": {
        "id": "bXbeLo3wR4mj"
      },
      "source": [
        "### Dropping all 0 bedroom records"
      ]
    },
    {
      "cell_type": "code",
      "metadata": {
        "id": "LVzE3dT0R07K"
      },
      "source": [
        "df = df[df['bedrooms']!=0]"
      ],
      "execution_count": 22,
      "outputs": []
    },
    {
      "cell_type": "markdown",
      "metadata": {
        "id": "oteK9oKOSYRe"
      },
      "source": [
        "### Histogram showing no.of apartments having 0-100 reviews"
      ]
    },
    {
      "cell_type": "code",
      "metadata": {
        "colab": {
          "base_uri": "https://localhost:8080/",
          "height": 282
        },
        "id": "iw-0x39kR7Ts",
        "outputId": "3e380cc7-230c-4e62-86ab-1aa6dc383def"
      },
      "source": [
        "df['reviews'].hist(bins=20, range = [0,100])"
      ],
      "execution_count": 23,
      "outputs": [
        {
          "output_type": "execute_result",
          "data": {
            "text/plain": [
              "<matplotlib.axes._subplots.AxesSubplot at 0x7fb1c60e4f90>"
            ]
          },
          "metadata": {
            "tags": []
          },
          "execution_count": 23
        },
        {
          "output_type": "display_data",
          "data": {
            "image/png": "[encoded data removed]",
            "text/plain": [
              "<Figure size 432x288 with 1 Axes>"
            ]
          },
          "metadata": {
            "tags": [],
            "needs_background": "light"
          }
        }
      ]
    },
    {
      "cell_type": "markdown",
      "metadata": {
        "id": "5yoP4sZlSb98"
      },
      "source": [
        "### Histogram showing no.of apartments having 0-1000 reviews"
      ]
    },
    {
      "cell_type": "code",
      "metadata": {
        "colab": {
          "base_uri": "https://localhost:8080/",
          "height": 282
        },
        "id": "-Hk_YkHPSalJ",
        "outputId": "13155c91-0eee-4c8f-9c20-63f0270947a7"
      },
      "source": [
        "df['reviews'].hist(bins=20, range = [0,1000])"
      ],
      "execution_count": 24,
      "outputs": [
        {
          "output_type": "execute_result",
          "data": {
            "text/plain": [
              "<matplotlib.axes._subplots.AxesSubplot at 0x7fb1c5fe3610>"
            ]
          },
          "metadata": {
            "tags": []
          },
          "execution_count": 24
        },
        {
          "output_type": "display_data",
          "data": {
            "image/png": "[encoded data removed]",
            "text/plain": [
              "<Figure size 432x288 with 1 Axes>"
            ]
          },
          "metadata": {
            "tags": [],
            "needs_background": "light"
          }
        }
      ]
    },
    {
      "cell_type": "markdown",
      "metadata": {
        "id": "IIT9smYOSiJI"
      },
      "source": [
        "### Histogram showing accomodations"
      ]
    },
    {
      "cell_type": "code",
      "metadata": {
        "colab": {
          "base_uri": "https://localhost:8080/",
          "height": 282
        },
        "id": "TV8Q0QNCShEL",
        "outputId": "9e052a74-a610-462d-ab8b-2f41a7049214"
      },
      "source": [
        "df['accommodates'].hist(bins=16)"
      ],
      "execution_count": 25,
      "outputs": [
        {
          "output_type": "execute_result",
          "data": {
            "text/plain": [
              "<matplotlib.axes._subplots.AxesSubplot at 0x7fb1c5fee190>"
            ]
          },
          "metadata": {
            "tags": []
          },
          "execution_count": 25
        },
        {
          "output_type": "display_data",
          "data": {
            "image/png": "[encoded data removed]",
            "text/plain": [
              "<Figure size 432x288 with 1 Axes>"
            ]
          },
          "metadata": {
            "tags": [],
            "needs_background": "light"
          }
        }
      ]
    },
    {
      "cell_type": "markdown",
      "metadata": {
        "id": "CUIGGEtASu_2"
      },
      "source": [
        "### Histogram showing overall satisfaction"
      ]
    },
    {
      "cell_type": "code",
      "metadata": {
        "colab": {
          "base_uri": "https://localhost:8080/",
          "height": 284
        },
        "id": "cqET_XjPStxf",
        "outputId": "ed796860-482a-4462-e727-f34b26e5f7d9"
      },
      "source": [
        "df['overall_satisfaction'].hist(bins=6)"
      ],
      "execution_count": 27,
      "outputs": [
        {
          "output_type": "execute_result",
          "data": {
            "text/plain": [
              "<matplotlib.axes._subplots.AxesSubplot at 0x7fb1c11d1290>"
            ]
          },
          "metadata": {
            "tags": []
          },
          "execution_count": 27
        },
        {
          "output_type": "display_data",
          "data": {
            "image/png": "[encoded data removed]",
            "text/plain": [
              "<Figure size 432x288 with 1 Axes>"
            ]
          },
          "metadata": {
            "tags": [],
            "needs_background": "light"
          }
        }
      ]
    },
    {
      "cell_type": "markdown",
      "metadata": {
        "id": "qbnGv2uBTN0P"
      },
      "source": [
        "### Histograms showing different levels of satisfaction for different prices"
      ]
    },
    {
      "cell_type": "code",
      "metadata": {
        "colab": {
          "base_uri": "https://localhost:8080/",
          "height": 282
        },
        "id": "0f1Wml5-S3OF",
        "outputId": "beda5600-599a-4538-feea-64f29db2a2b7"
      },
      "source": [
        "df_price1 = df[df['price'].between(100,200,inclusive=True)]\n",
        "df_price1['overall_satisfaction'].hist()"
      ],
      "execution_count": 28,
      "outputs": [
        {
          "output_type": "execute_result",
          "data": {
            "text/plain": [
              "<matplotlib.axes._subplots.AxesSubplot at 0x7fb1c11f7cd0>"
            ]
          },
          "metadata": {
            "tags": []
          },
          "execution_count": 28
        },
        {
          "output_type": "display_data",
          "data": {
            "image/png": "[encoded data removed]",
            "text/plain": [
              "<Figure size 432x288 with 1 Axes>"
            ]
          },
          "metadata": {
            "tags": [],
            "needs_background": "light"
          }
        }
      ]
    },
    {
      "cell_type": "code",
      "metadata": {
        "colab": {
          "base_uri": "https://localhost:8080/",
          "height": 282
        },
        "id": "heOuljqmTCMq",
        "outputId": "a04038cf-c363-4b22-8aa4-2174c7ca3fe8"
      },
      "source": [
        "df_price2 = df[df['price']<50]\n",
        "df_price2['overall_satisfaction'].hist()"
      ],
      "execution_count": 29,
      "outputs": [
        {
          "output_type": "execute_result",
          "data": {
            "text/plain": [
              "<matplotlib.axes._subplots.AxesSubplot at 0x7fb1c1121f10>"
            ]
          },
          "metadata": {
            "tags": []
          },
          "execution_count": 29
        },
        {
          "output_type": "display_data",
          "data": {
            "image/png": "[encoded data removed]",
            "text/plain": [
              "<Figure size 432x288 with 1 Axes>"
            ]
          },
          "metadata": {
            "tags": [],
            "needs_background": "light"
          }
        }
      ]
    },
    {
      "cell_type": "code",
      "metadata": {
        "colab": {
          "base_uri": "https://localhost:8080/",
          "height": 282
        },
        "id": "aj07VWtSTEV7",
        "outputId": "8eb23512-dd9f-4861-f234-55b06b229efd"
      },
      "source": [
        "df_price3 = df[df['price']>200]\n",
        "df_price3['overall_satisfaction'].hist()"
      ],
      "execution_count": 30,
      "outputs": [
        {
          "output_type": "execute_result",
          "data": {
            "text/plain": [
              "<matplotlib.axes._subplots.AxesSubplot at 0x7fb1c105d590>"
            ]
          },
          "metadata": {
            "tags": []
          },
          "execution_count": 30
        },
        {
          "output_type": "display_data",
          "data": {
            "image/png": "[encoded data removed]",
            "text/plain": [
              "<Figure size 432x288 with 1 Axes>"
            ]
          },
          "metadata": {
            "tags": [],
            "needs_background": "light"
          }
        }
      ]
    },
    {
      "cell_type": "code",
      "metadata": {
        "colab": {
          "base_uri": "https://localhost:8080/",
          "height": 286
        },
        "id": "EAKbDqYhTHNJ",
        "outputId": "ec8e05dc-a53a-453e-ca8b-378ef8b4bf89"
      },
      "source": [
        "df_price4 = df[df['price']>300]\n",
        "df_price4['overall_satisfaction'].hist()"
      ],
      "execution_count": 31,
      "outputs": [
        {
          "output_type": "execute_result",
          "data": {
            "text/plain": [
              "<matplotlib.axes._subplots.AxesSubplot at 0x7fb1c106a090>"
            ]
          },
          "metadata": {
            "tags": []
          },
          "execution_count": 31
        },
        {
          "output_type": "display_data",
          "data": {
            "image/png": "[encoded data removed]",
            "text/plain": [
              "<Figure size 432x288 with 1 Axes>"
            ]
          },
          "metadata": {
            "tags": [],
            "needs_background": "light"
          }
        }
      ]
    },
    {
      "cell_type": "markdown",
      "metadata": {
        "id": "gWPCVPymTauu"
      },
      "source": [
        "### Relation between Price and Reviews"
      ]
    },
    {
      "cell_type": "code",
      "metadata": {
        "colab": {
          "base_uri": "https://localhost:8080/"
        },
        "id": "4PpzwFATTJ1u",
        "outputId": "b53062dd-9932-418b-9536-8104c1818ce7"
      },
      "source": [
        "price_reviews_corr = df['price'].corr(df['reviews'])\n",
        "price_reviews_corr"
      ],
      "execution_count": 32,
      "outputs": [
        {
          "output_type": "execute_result",
          "data": {
            "text/plain": [
              "-0.0017118512691846278"
            ]
          },
          "metadata": {
            "tags": []
          },
          "execution_count": 32
        }
      ]
    },
    {
      "cell_type": "markdown",
      "metadata": {
        "id": "cqUzcSX_Tj_u"
      },
      "source": [
        "### Relation between Accomodates and Price"
      ]
    },
    {
      "cell_type": "code",
      "metadata": {
        "colab": {
          "base_uri": "https://localhost:8080/"
        },
        "id": "uVrY11oBTdIC",
        "outputId": "be03054f-9e29-4864-ffba-3c0becc3258d"
      },
      "source": [
        "acc_price_corr = df['accommodates'].corr(df['price'])\n",
        "acc_price_corr"
      ],
      "execution_count": 33,
      "outputs": [
        {
          "output_type": "execute_result",
          "data": {
            "text/plain": [
              "0.405088607104604"
            ]
          },
          "metadata": {
            "tags": []
          },
          "execution_count": 33
        }
      ]
    },
    {
      "cell_type": "markdown",
      "metadata": {
        "id": "ekMpmXcVTroT"
      },
      "source": [
        "### Relation between Overall Satisfaction and Price"
      ]
    },
    {
      "cell_type": "code",
      "metadata": {
        "colab": {
          "base_uri": "https://localhost:8080/"
        },
        "id": "R92A3Cv-Tm_f",
        "outputId": "b5feed07-33bc-413c-ff56-b9a2f95244c2"
      },
      "source": [
        "satisfaction_price_corr = df['overall_satisfaction'].corr(df['price'])\n",
        "satisfaction_price_corr"
      ],
      "execution_count": 34,
      "outputs": [
        {
          "output_type": "execute_result",
          "data": {
            "text/plain": [
              "-0.042517886126699406"
            ]
          },
          "metadata": {
            "tags": []
          },
          "execution_count": 34
        }
      ]
    },
    {
      "cell_type": "markdown",
      "metadata": {
        "id": "SvOFrYeETw7J"
      },
      "source": [
        "### Relation between Bedrooms and Price"
      ]
    },
    {
      "cell_type": "code",
      "metadata": {
        "colab": {
          "base_uri": "https://localhost:8080/"
        },
        "id": "UNBpDVFWTtq0",
        "outputId": "65cfe16d-b7ed-4716-f53e-32e690cf081f"
      },
      "source": [
        "bedrooms_price_corr = df['bedrooms'].corr(df['price']) \n",
        "bedrooms_price_corr"
      ],
      "execution_count": 35,
      "outputs": [
        {
          "output_type": "execute_result",
          "data": {
            "text/plain": [
              "0.34442350243554337"
            ]
          },
          "metadata": {
            "tags": []
          },
          "execution_count": 35
        }
      ]
    },
    {
      "cell_type": "markdown",
      "metadata": {
        "id": "v5jFqqkYT2vT"
      },
      "source": [
        "### Availability based on neighbourhood"
      ]
    },
    {
      "cell_type": "code",
      "metadata": {
        "colab": {
          "base_uri": "https://localhost:8080/",
          "height": 282
        },
        "id": "m2Z1zcZCTzWC",
        "outputId": "5631eebf-777e-485b-9d82-e6208ab0ba6f"
      },
      "source": [
        "df['neighborhood'].value_counts().plot(kind='barh')"
      ],
      "execution_count": 36,
      "outputs": [
        {
          "output_type": "execute_result",
          "data": {
            "text/plain": [
              "<matplotlib.axes._subplots.AxesSubplot at 0x7fb1c106ab90>"
            ]
          },
          "metadata": {
            "tags": []
          },
          "execution_count": 36
        },
        {
          "output_type": "display_data",
          "data": {
            "image/png": "[encoded data removed]",
            "text/plain": [
              "<Figure size 432x288 with 1 Axes>"
            ]
          },
          "metadata": {
            "tags": [],
            "needs_background": "light"
          }
        }
      ]
    },
    {
      "cell_type": "code",
      "metadata": {
        "id": "Q5YvlweLT5j9"
      },
      "source": [
        ""
      ],
      "execution_count": null,
      "outputs": []
    }
  ]
}