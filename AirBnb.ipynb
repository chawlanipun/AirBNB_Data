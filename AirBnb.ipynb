{
  "nbformat": 4,
  "nbformat_minor": 0,
  "metadata": {
    "colab": {
      "name": "AirBnb",
      "provenance": [],
      "toc_visible": true
    },
    "kernelspec": {
      "name": "python3",
      "display_name": "Python 3"
    },
    "language_info": {
      "name": "python"
    }
  },
  "cells": [
    {
      "cell_type": "code",
      "metadata": {
        "id": "-cjdqgctJOey"
      },
      "source": [
        "import pandas as pd\n",
        "import matplotlib.pyplot as plt"
      ],
      "execution_count": 159,
      "outputs": []
    },
    {
      "cell_type": "code",
      "metadata": {
        "id": "54qAJYaMGJn1"
      },
      "source": [
        "df = pd.read_csv('/content/airbnb prices.csv')"
      ],
      "execution_count": 160,
      "outputs": []
    },
    {
      "cell_type": "code",
      "metadata": {
        "colab": {
          "base_uri": "https://localhost:8080/",
          "height": 462
        },
        "id": "NB_ZcXDyJMwm",
        "outputId": "8f7a8981-e20a-476f-e32b-68ceb9916e22"
      },
      "source": [
        "df.head()"
      ],
      "execution_count": 161,
      "outputs": [
        {
          "output_type": "execute_result",
          "data": {
            "text/html": [
              "<div>\n",
              "<style scoped>\n",
              "    .dataframe tbody tr th:only-of-type {\n",
              "        vertical-align: middle;\n",
              "    }\n",
              "\n",
              "    .dataframe tbody tr th {\n",
              "        vertical-align: top;\n",
              "    }\n",
              "\n",
              "    .dataframe thead th {\n",
              "        text-align: right;\n",
              "    }\n",
              "</style>\n",
              "<table border=\"1\" class=\"dataframe\">\n",
              "  <thead>\n",
              "    <tr style=\"text-align: right;\">\n",
              "      <th></th>\n",
              "      <th>room_id</th>\n",
              "      <th>survey_id</th>\n",
              "      <th>host_id</th>\n",
              "      <th>room_type</th>\n",
              "      <th>country</th>\n",
              "      <th>city</th>\n",
              "      <th>borough</th>\n",
              "      <th>neighborhood</th>\n",
              "      <th>reviews</th>\n",
              "      <th>overall_satisfaction</th>\n",
              "      <th>accommodates</th>\n",
              "      <th>bedrooms</th>\n",
              "      <th>bathrooms</th>\n",
              "      <th>price</th>\n",
              "      <th>minstay</th>\n",
              "      <th>name</th>\n",
              "      <th>last_modified</th>\n",
              "      <th>latitude</th>\n",
              "      <th>longitude</th>\n",
              "      <th>location</th>\n",
              "    </tr>\n",
              "  </thead>\n",
              "  <tbody>\n",
              "    <tr>\n",
              "      <th>0</th>\n",
              "      <td>10176931</td>\n",
              "      <td>1476</td>\n",
              "      <td>49180562</td>\n",
              "      <td>Shared room</td>\n",
              "      <td>NaN</td>\n",
              "      <td>Amsterdam</td>\n",
              "      <td>NaN</td>\n",
              "      <td>De Pijp / Rivierenbuurt</td>\n",
              "      <td>7</td>\n",
              "      <td>4.5</td>\n",
              "      <td>2</td>\n",
              "      <td>1.0</td>\n",
              "      <td>NaN</td>\n",
              "      <td>156.0</td>\n",
              "      <td>NaN</td>\n",
              "      <td>Red Light/ Canal view apartment (Shared)</td>\n",
              "      <td>2017-07-23 13:06:27.391699</td>\n",
              "      <td>52.356209</td>\n",
              "      <td>4.887491</td>\n",
              "      <td>0101000020E610000033FAD170CA8C13403BC5AA41982D...</td>\n",
              "    </tr>\n",
              "    <tr>\n",
              "      <th>1</th>\n",
              "      <td>8935871</td>\n",
              "      <td>1476</td>\n",
              "      <td>46718394</td>\n",
              "      <td>Shared room</td>\n",
              "      <td>NaN</td>\n",
              "      <td>Amsterdam</td>\n",
              "      <td>NaN</td>\n",
              "      <td>Centrum West</td>\n",
              "      <td>45</td>\n",
              "      <td>4.5</td>\n",
              "      <td>4</td>\n",
              "      <td>1.0</td>\n",
              "      <td>NaN</td>\n",
              "      <td>126.0</td>\n",
              "      <td>NaN</td>\n",
              "      <td>Sunny and Cozy Living room in quite neighbours</td>\n",
              "      <td>2017-07-23 13:06:23.607187</td>\n",
              "      <td>52.378518</td>\n",
              "      <td>4.896120</td>\n",
              "      <td>0101000020E6100000842A357BA095134042791F477330...</td>\n",
              "    </tr>\n",
              "    <tr>\n",
              "      <th>2</th>\n",
              "      <td>14011697</td>\n",
              "      <td>1476</td>\n",
              "      <td>10346595</td>\n",
              "      <td>Shared room</td>\n",
              "      <td>NaN</td>\n",
              "      <td>Amsterdam</td>\n",
              "      <td>NaN</td>\n",
              "      <td>Watergraafsmeer</td>\n",
              "      <td>1</td>\n",
              "      <td>0.0</td>\n",
              "      <td>3</td>\n",
              "      <td>1.0</td>\n",
              "      <td>NaN</td>\n",
              "      <td>132.0</td>\n",
              "      <td>NaN</td>\n",
              "      <td>Amsterdam</td>\n",
              "      <td>2017-07-23 13:06:23.603546</td>\n",
              "      <td>52.338811</td>\n",
              "      <td>4.943592</td>\n",
              "      <td>0101000020E6100000A51133FB3CC613403543AA285E2B...</td>\n",
              "    </tr>\n",
              "    <tr>\n",
              "      <th>3</th>\n",
              "      <td>6137978</td>\n",
              "      <td>1476</td>\n",
              "      <td>8685430</td>\n",
              "      <td>Shared room</td>\n",
              "      <td>NaN</td>\n",
              "      <td>Amsterdam</td>\n",
              "      <td>NaN</td>\n",
              "      <td>Centrum West</td>\n",
              "      <td>7</td>\n",
              "      <td>5.0</td>\n",
              "      <td>4</td>\n",
              "      <td>1.0</td>\n",
              "      <td>NaN</td>\n",
              "      <td>121.0</td>\n",
              "      <td>NaN</td>\n",
              "      <td>Canal boat RIDE in Amsterdam</td>\n",
              "      <td>2017-07-23 13:06:22.689787</td>\n",
              "      <td>52.376319</td>\n",
              "      <td>4.890028</td>\n",
              "      <td>0101000020E6100000DF180280638F134085EE92382B30...</td>\n",
              "    </tr>\n",
              "    <tr>\n",
              "      <th>4</th>\n",
              "      <td>18630616</td>\n",
              "      <td>1476</td>\n",
              "      <td>70191803</td>\n",
              "      <td>Shared room</td>\n",
              "      <td>NaN</td>\n",
              "      <td>Amsterdam</td>\n",
              "      <td>NaN</td>\n",
              "      <td>De Baarsjes / Oud West</td>\n",
              "      <td>1</td>\n",
              "      <td>0.0</td>\n",
              "      <td>2</td>\n",
              "      <td>1.0</td>\n",
              "      <td>NaN</td>\n",
              "      <td>93.0</td>\n",
              "      <td>NaN</td>\n",
              "      <td>One room for rent in a three room appartment</td>\n",
              "      <td>2017-07-23 13:06:19.681469</td>\n",
              "      <td>52.370384</td>\n",
              "      <td>4.852873</td>\n",
              "      <td>0101000020E6100000CD902A8A57691340187B2FBE682F...</td>\n",
              "    </tr>\n",
              "  </tbody>\n",
              "</table>\n",
              "</div>"
            ],
            "text/plain": [
              "    room_id  ...                                           location\n",
              "0  10176931  ...  0101000020E610000033FAD170CA8C13403BC5AA41982D...\n",
              "1   8935871  ...  0101000020E6100000842A357BA095134042791F477330...\n",
              "2  14011697  ...  0101000020E6100000A51133FB3CC613403543AA285E2B...\n",
              "3   6137978  ...  0101000020E6100000DF180280638F134085EE92382B30...\n",
              "4  18630616  ...  0101000020E6100000CD902A8A57691340187B2FBE682F...\n",
              "\n",
              "[5 rows x 20 columns]"
            ]
          },
          "metadata": {
            "tags": []
          },
          "execution_count": 161
        }
      ]
    },
    {
      "cell_type": "markdown",
      "metadata": {
        "id": "WQbxTK57LsMM"
      },
      "source": [
        "### Dropping unused columns"
      ]
    },
    {
      "cell_type": "code",
      "metadata": {
        "id": "mZZa84JULqvD"
      },
      "source": [
        "df = df.drop(['country','borough'],axis=1)"
      ],
      "execution_count": 196,
      "outputs": []
    },
    {
      "cell_type": "code",
      "metadata": {
        "id": "qQkloARlMhJV"
      },
      "source": [
        "df = df.drop('minstay',axis=1)"
      ],
      "execution_count": 197,
      "outputs": []
    },
    {
      "cell_type": "markdown",
      "metadata": {
        "id": "OSDca8zaLdnh"
      },
      "source": [
        "### Types of Room available: Shared, Entire home and Private room\n"
      ]
    },
    {
      "cell_type": "code",
      "metadata": {
        "colab": {
          "base_uri": "https://localhost:8080/"
        },
        "id": "4DjdCq5DJSXM",
        "outputId": "23e0b709-dd59-4c0d-aef9-c0587d420180"
      },
      "source": [
        "df.room_type.unique()"
      ],
      "execution_count": 162,
      "outputs": [
        {
          "output_type": "execute_result",
          "data": {
            "text/plain": [
              "array(['Shared room', 'Entire home/apt', 'Private room'], dtype=object)"
            ]
          },
          "metadata": {
            "tags": []
          },
          "execution_count": 162
        }
      ]
    },
    {
      "cell_type": "markdown",
      "metadata": {
        "id": "X-gLZfGtMKKa"
      },
      "source": [
        "### Removing shared room type as they are very low "
      ]
    },
    {
      "cell_type": "code",
      "metadata": {
        "colab": {
          "base_uri": "https://localhost:8080/"
        },
        "id": "Srt5qm7OLwqS",
        "outputId": "cd214ce9-74d5-45b0-8e6f-f26c5ace53db"
      },
      "source": [
        "df.room_type.value_counts()"
      ],
      "execution_count": 163,
      "outputs": [
        {
          "output_type": "execute_result",
          "data": {
            "text/plain": [
              "Entire home/apt    14978\n",
              "Private room        3682\n",
              "Shared room           63\n",
              "Name: room_type, dtype: int64"
            ]
          },
          "metadata": {
            "tags": []
          },
          "execution_count": 163
        }
      ]
    },
    {
      "cell_type": "code",
      "metadata": {
        "id": "oFtviKjeMWnK"
      },
      "source": [
        "df = df[df.room_type != \"Shared room\"]"
      ],
      "execution_count": 164,
      "outputs": []
    },
    {
      "cell_type": "code",
      "metadata": {
        "colab": {
          "base_uri": "https://localhost:8080/"
        },
        "id": "-72qmoBwNb5V",
        "outputId": "beada2da-e87f-4156-c1b5-a63a4198a091"
      },
      "source": [
        "df.room_type.value_counts()"
      ],
      "execution_count": 165,
      "outputs": [
        {
          "output_type": "execute_result",
          "data": {
            "text/plain": [
              "Entire home/apt    14978\n",
              "Private room        3682\n",
              "Name: room_type, dtype: int64"
            ]
          },
          "metadata": {
            "tags": []
          },
          "execution_count": 165
        }
      ]
    },
    {
      "cell_type": "markdown",
      "metadata": {
        "id": "A9NBFMXBNp0p"
      },
      "source": [
        "### Popularity of different neighbourhoods"
      ]
    },
    {
      "cell_type": "code",
      "metadata": {
        "colab": {
          "base_uri": "https://localhost:8080/"
        },
        "id": "cf4qQCj2NexO",
        "outputId": "19b2241e-2cd7-42ed-a377-03fa88f4f770"
      },
      "source": [
        "df.neighborhood.value_counts()"
      ],
      "execution_count": 166,
      "outputs": [
        {
          "output_type": "execute_result",
          "data": {
            "text/plain": [
              "De Baarsjes / Oud West                    3280\n",
              "De Pijp / Rivierenbuurt                   2371\n",
              "Centrum West                              2217\n",
              "Centrum Oost                              1724\n",
              "Westerpark                                1424\n",
              "Noord-West / Noord-Midden                 1416\n",
              "Oud Oost                                  1167\n",
              "Bos en Lommer                              985\n",
              "Oostelijk Havengebied / Indische Buurt     916\n",
              "Watergraafsmeer                            515\n",
              "Oud Noord                                  492\n",
              "Ijburg / Eiland Zeeburg                    378\n",
              "Slotervaart                                346\n",
              "Buitenveldert / Zuidas                     248\n",
              "Noord West                                 241\n",
              "Noord Oost                                 221\n",
              "Geuzenveld / Slotermeer                    192\n",
              "Osdorp                                     161\n",
              "De Aker / Nieuw Sloten                     114\n",
              "Bijlmer Centrum                             98\n",
              "Bijlmer Oost                                97\n",
              "Gaasperdam / Driemond                       42\n",
              "Westpoort                                   15\n",
              "Name: neighborhood, dtype: int64"
            ]
          },
          "metadata": {
            "tags": []
          },
          "execution_count": 166
        }
      ]
    },
    {
      "cell_type": "markdown",
      "metadata": {
        "id": "mr_NBS0yPCgF"
      },
      "source": [
        "### No. of records for which reviews are 0 or 1"
      ]
    },
    {
      "cell_type": "code",
      "metadata": {
        "colab": {
          "base_uri": "https://localhost:8080/"
        },
        "id": "Gh2eNZqAPI37",
        "outputId": "5ce59c15-f8d5-4319-975a-d6647095f8a4"
      },
      "source": [
        "df.room_id[df['reviews']  == 0].count()"
      ],
      "execution_count": 167,
      "outputs": [
        {
          "output_type": "execute_result",
          "data": {
            "text/plain": [
              "2975"
            ]
          },
          "metadata": {
            "tags": []
          },
          "execution_count": 167
        }
      ]
    },
    {
      "cell_type": "code",
      "metadata": {
        "colab": {
          "base_uri": "https://localhost:8080/"
        },
        "id": "6FZiZKF7PiGQ",
        "outputId": "51a3d980-9aca-491a-a639-ed944d8b3260"
      },
      "source": [
        "df.room_id[df['reviews']  == 1].count()"
      ],
      "execution_count": 168,
      "outputs": [
        {
          "output_type": "execute_result",
          "data": {
            "text/plain": [
              "1500"
            ]
          },
          "metadata": {
            "tags": []
          },
          "execution_count": 168
        }
      ]
    },
    {
      "cell_type": "markdown",
      "metadata": {
        "id": "wcE1z00Fffb5"
      },
      "source": [
        "### Overall satisfaction by each rating"
      ]
    },
    {
      "cell_type": "code",
      "metadata": {
        "colab": {
          "base_uri": "https://localhost:8080/"
        },
        "id": "7rj9pxmAfnBe",
        "outputId": "236cba21-6348-440b-feaa-2d821813463e"
      },
      "source": [
        "df['overall_satisfaction'].value_counts()"
      ],
      "execution_count": 169,
      "outputs": [
        {
          "output_type": "execute_result",
          "data": {
            "text/plain": [
              "5.0    7697\n",
              "0.0    5721\n",
              "4.5    4543\n",
              "4.0     573\n",
              "3.5     105\n",
              "3.0      19\n",
              "2.5       1\n",
              "1.0       1\n",
              "Name: overall_satisfaction, dtype: int64"
            ]
          },
          "metadata": {
            "tags": []
          },
          "execution_count": 169
        }
      ]
    },
    {
      "cell_type": "markdown",
      "metadata": {
        "id": "E7ms8dK-gUyH"
      },
      "source": [
        "### Sub dataframe where overall satisfaction is 0"
      ]
    },
    {
      "cell_type": "code",
      "metadata": {
        "id": "ORnddGmbf3A4"
      },
      "source": [
        "zero_satisfaction = df[df['overall_satisfaction'] == 0]"
      ],
      "execution_count": 170,
      "outputs": []
    },
    {
      "cell_type": "code",
      "metadata": {
        "colab": {
          "base_uri": "https://localhost:8080/",
          "height": 864
        },
        "id": "c1V6TPz6hh8P",
        "outputId": "e2330c33-9b60-4c10-ede4-2003738b0395"
      },
      "source": [
        "zero_satisfaction"
      ],
      "execution_count": 171,
      "outputs": [
        {
          "output_type": "execute_result",
          "data": {
            "text/html": [
              "<div>\n",
              "<style scoped>\n",
              "    .dataframe tbody tr th:only-of-type {\n",
              "        vertical-align: middle;\n",
              "    }\n",
              "\n",
              "    .dataframe tbody tr th {\n",
              "        vertical-align: top;\n",
              "    }\n",
              "\n",
              "    .dataframe thead th {\n",
              "        text-align: right;\n",
              "    }\n",
              "</style>\n",
              "<table border=\"1\" class=\"dataframe\">\n",
              "  <thead>\n",
              "    <tr style=\"text-align: right;\">\n",
              "      <th></th>\n",
              "      <th>room_id</th>\n",
              "      <th>survey_id</th>\n",
              "      <th>host_id</th>\n",
              "      <th>room_type</th>\n",
              "      <th>country</th>\n",
              "      <th>city</th>\n",
              "      <th>borough</th>\n",
              "      <th>neighborhood</th>\n",
              "      <th>reviews</th>\n",
              "      <th>overall_satisfaction</th>\n",
              "      <th>accommodates</th>\n",
              "      <th>bedrooms</th>\n",
              "      <th>bathrooms</th>\n",
              "      <th>price</th>\n",
              "      <th>minstay</th>\n",
              "      <th>name</th>\n",
              "      <th>last_modified</th>\n",
              "      <th>latitude</th>\n",
              "      <th>longitude</th>\n",
              "      <th>location</th>\n",
              "    </tr>\n",
              "  </thead>\n",
              "  <tbody>\n",
              "    <tr>\n",
              "      <th>34</th>\n",
              "      <td>3119298</td>\n",
              "      <td>1476</td>\n",
              "      <td>15847782</td>\n",
              "      <td>Entire home/apt</td>\n",
              "      <td>NaN</td>\n",
              "      <td>Amsterdam</td>\n",
              "      <td>NaN</td>\n",
              "      <td>Westerpark</td>\n",
              "      <td>1</td>\n",
              "      <td>0.0</td>\n",
              "      <td>8</td>\n",
              "      <td>3.0</td>\n",
              "      <td>NaN</td>\n",
              "      <td>445.0</td>\n",
              "      <td>NaN</td>\n",
              "      <td>Modern 5-8 person apartment</td>\n",
              "      <td>2017-07-23 12:58:15.945759</td>\n",
              "      <td>52.377581</td>\n",
              "      <td>4.873119</td>\n",
              "      <td>0101000020E61000009D103AE8127E1340A54BFF925430...</td>\n",
              "    </tr>\n",
              "    <tr>\n",
              "      <th>36</th>\n",
              "      <td>10511291</td>\n",
              "      <td>1476</td>\n",
              "      <td>5421078</td>\n",
              "      <td>Entire home/apt</td>\n",
              "      <td>NaN</td>\n",
              "      <td>Amsterdam</td>\n",
              "      <td>NaN</td>\n",
              "      <td>Watergraafsmeer</td>\n",
              "      <td>1</td>\n",
              "      <td>0.0</td>\n",
              "      <td>8</td>\n",
              "      <td>3.0</td>\n",
              "      <td>NaN</td>\n",
              "      <td>1412.0</td>\n",
              "      <td>NaN</td>\n",
              "      <td>Whole house 200m2 Frankendael Park</td>\n",
              "      <td>2017-07-23 12:30:42.249974</td>\n",
              "      <td>52.350968</td>\n",
              "      <td>4.929821</td>\n",
              "      <td>0101000020E61000003B8908FF22B81340A5F8F884EC2C...</td>\n",
              "    </tr>\n",
              "    <tr>\n",
              "      <th>37</th>\n",
              "      <td>18047871</td>\n",
              "      <td>1476</td>\n",
              "      <td>9302267</td>\n",
              "      <td>Entire home/apt</td>\n",
              "      <td>NaN</td>\n",
              "      <td>Amsterdam</td>\n",
              "      <td>NaN</td>\n",
              "      <td>Centrum West</td>\n",
              "      <td>0</td>\n",
              "      <td>0.0</td>\n",
              "      <td>4</td>\n",
              "      <td>4.0</td>\n",
              "      <td>NaN</td>\n",
              "      <td>541.0</td>\n",
              "      <td>NaN</td>\n",
              "      <td>Great 4 bedroom apartment at the flower market</td>\n",
              "      <td>2017-07-23 12:30:27.637777</td>\n",
              "      <td>52.367890</td>\n",
              "      <td>4.889273</td>\n",
              "      <td>0101000020E6100000FDDCD0949D8E13404243FF04172F...</td>\n",
              "    </tr>\n",
              "    <tr>\n",
              "      <th>38</th>\n",
              "      <td>7468232</td>\n",
              "      <td>1476</td>\n",
              "      <td>7215538</td>\n",
              "      <td>Entire home/apt</td>\n",
              "      <td>NaN</td>\n",
              "      <td>Amsterdam</td>\n",
              "      <td>NaN</td>\n",
              "      <td>Noord-West / Noord-Midden</td>\n",
              "      <td>2</td>\n",
              "      <td>0.0</td>\n",
              "      <td>4</td>\n",
              "      <td>2.0</td>\n",
              "      <td>NaN</td>\n",
              "      <td>594.0</td>\n",
              "      <td>NaN</td>\n",
              "      <td>MuseumSquare apartment with garden</td>\n",
              "      <td>2017-07-23 12:30:27.627216</td>\n",
              "      <td>52.355169</td>\n",
              "      <td>4.883219</td>\n",
              "      <td>0101000020E6100000C4D2C08F6A881340C9C6832D762D...</td>\n",
              "    </tr>\n",
              "    <tr>\n",
              "      <th>40</th>\n",
              "      <td>5818567</td>\n",
              "      <td>1476</td>\n",
              "      <td>29561840</td>\n",
              "      <td>Entire home/apt</td>\n",
              "      <td>NaN</td>\n",
              "      <td>Amsterdam</td>\n",
              "      <td>NaN</td>\n",
              "      <td>De Aker / Nieuw Sloten</td>\n",
              "      <td>0</td>\n",
              "      <td>0.0</td>\n",
              "      <td>4</td>\n",
              "      <td>2.0</td>\n",
              "      <td>NaN</td>\n",
              "      <td>361.0</td>\n",
              "      <td>NaN</td>\n",
              "      <td>Luxurous, modern, bright appartment</td>\n",
              "      <td>2017-07-23 12:29:20.728096</td>\n",
              "      <td>52.346007</td>\n",
              "      <td>4.811830</td>\n",
              "      <td>0101000020E61000008FA50F5D503F1340F29716F5492C...</td>\n",
              "    </tr>\n",
              "    <tr>\n",
              "      <th>...</th>\n",
              "      <td>...</td>\n",
              "      <td>...</td>\n",
              "      <td>...</td>\n",
              "      <td>...</td>\n",
              "      <td>...</td>\n",
              "      <td>...</td>\n",
              "      <td>...</td>\n",
              "      <td>...</td>\n",
              "      <td>...</td>\n",
              "      <td>...</td>\n",
              "      <td>...</td>\n",
              "      <td>...</td>\n",
              "      <td>...</td>\n",
              "      <td>...</td>\n",
              "      <td>...</td>\n",
              "      <td>...</td>\n",
              "      <td>...</td>\n",
              "      <td>...</td>\n",
              "      <td>...</td>\n",
              "      <td>...</td>\n",
              "    </tr>\n",
              "    <tr>\n",
              "      <th>18708</th>\n",
              "      <td>16411584</td>\n",
              "      <td>1476</td>\n",
              "      <td>83673574</td>\n",
              "      <td>Private room</td>\n",
              "      <td>NaN</td>\n",
              "      <td>Amsterdam</td>\n",
              "      <td>NaN</td>\n",
              "      <td>Oostelijk Havengebied / Indische Buurt</td>\n",
              "      <td>0</td>\n",
              "      <td>0.0</td>\n",
              "      <td>1</td>\n",
              "      <td>1.0</td>\n",
              "      <td>NaN</td>\n",
              "      <td>37.0</td>\n",
              "      <td>NaN</td>\n",
              "      <td>Single Room with double bed in Amsterdam east</td>\n",
              "      <td>2017-07-22 16:05:14.190492</td>\n",
              "      <td>52.362315</td>\n",
              "      <td>4.944151</td>\n",
              "      <td>0101000020E61000005AF10D85CFC61340D5EC8156602E...</td>\n",
              "    </tr>\n",
              "    <tr>\n",
              "      <th>18709</th>\n",
              "      <td>12886265</td>\n",
              "      <td>1476</td>\n",
              "      <td>50843183</td>\n",
              "      <td>Private room</td>\n",
              "      <td>NaN</td>\n",
              "      <td>Amsterdam</td>\n",
              "      <td>NaN</td>\n",
              "      <td>Noord-West / Noord-Midden</td>\n",
              "      <td>0</td>\n",
              "      <td>0.0</td>\n",
              "      <td>1</td>\n",
              "      <td>1.0</td>\n",
              "      <td>NaN</td>\n",
              "      <td>28.0</td>\n",
              "      <td>NaN</td>\n",
              "      <td>Small room - Amsterdam south</td>\n",
              "      <td>2017-07-22 16:05:14.187572</td>\n",
              "      <td>52.346610</td>\n",
              "      <td>4.846674</td>\n",
              "      <td>0101000020E6100000787E5182FE621340B83B6BB75D2C...</td>\n",
              "    </tr>\n",
              "    <tr>\n",
              "      <th>18714</th>\n",
              "      <td>19203256</td>\n",
              "      <td>1476</td>\n",
              "      <td>132265798</td>\n",
              "      <td>Private room</td>\n",
              "      <td>NaN</td>\n",
              "      <td>Amsterdam</td>\n",
              "      <td>NaN</td>\n",
              "      <td>Bijlmer Centrum</td>\n",
              "      <td>1</td>\n",
              "      <td>0.0</td>\n",
              "      <td>4</td>\n",
              "      <td>1.0</td>\n",
              "      <td>NaN</td>\n",
              "      <td>35.0</td>\n",
              "      <td>NaN</td>\n",
              "      <td>NEW Stylish room, Ziggodome, AFAS LIVE, ArenA,...</td>\n",
              "      <td>2017-07-22 16:05:14.168799</td>\n",
              "      <td>52.320049</td>\n",
              "      <td>4.955609</td>\n",
              "      <td>0101000020E6100000950D6B2A8BD213400A0F9A5DF728...</td>\n",
              "    </tr>\n",
              "    <tr>\n",
              "      <th>18715</th>\n",
              "      <td>19734178</td>\n",
              "      <td>1476</td>\n",
              "      <td>139135665</td>\n",
              "      <td>Private room</td>\n",
              "      <td>NaN</td>\n",
              "      <td>Amsterdam</td>\n",
              "      <td>NaN</td>\n",
              "      <td>Osdorp</td>\n",
              "      <td>0</td>\n",
              "      <td>0.0</td>\n",
              "      <td>1</td>\n",
              "      <td>0.0</td>\n",
              "      <td>NaN</td>\n",
              "      <td>30.0</td>\n",
              "      <td>NaN</td>\n",
              "      <td>Cozy Apartment in Nieuw-West</td>\n",
              "      <td>2017-07-22 16:05:14.166410</td>\n",
              "      <td>52.356702</td>\n",
              "      <td>4.792346</td>\n",
              "      <td>0101000020E61000003677F4BF5C2B13407A354069A82D...</td>\n",
              "    </tr>\n",
              "    <tr>\n",
              "      <th>18720</th>\n",
              "      <td>19859427</td>\n",
              "      <td>1476</td>\n",
              "      <td>29724632</td>\n",
              "      <td>Private room</td>\n",
              "      <td>NaN</td>\n",
              "      <td>Amsterdam</td>\n",
              "      <td>NaN</td>\n",
              "      <td>Geuzenveld / Slotermeer</td>\n",
              "      <td>0</td>\n",
              "      <td>0.0</td>\n",
              "      <td>1</td>\n",
              "      <td>1.0</td>\n",
              "      <td>NaN</td>\n",
              "      <td>38.0</td>\n",
              "      <td>NaN</td>\n",
              "      <td>Private single room</td>\n",
              "      <td>2017-07-22 16:05:14.149610</td>\n",
              "      <td>52.384028</td>\n",
              "      <td>4.838403</td>\n",
              "      <td>0101000020E61000002079E750865A1340C85F5AD42731...</td>\n",
              "    </tr>\n",
              "  </tbody>\n",
              "</table>\n",
              "<p>5721 rows × 20 columns</p>\n",
              "</div>"
            ],
            "text/plain": [
              "        room_id  ...                                           location\n",
              "34      3119298  ...  0101000020E61000009D103AE8127E1340A54BFF925430...\n",
              "36     10511291  ...  0101000020E61000003B8908FF22B81340A5F8F884EC2C...\n",
              "37     18047871  ...  0101000020E6100000FDDCD0949D8E13404243FF04172F...\n",
              "38      7468232  ...  0101000020E6100000C4D2C08F6A881340C9C6832D762D...\n",
              "40      5818567  ...  0101000020E61000008FA50F5D503F1340F29716F5492C...\n",
              "...         ...  ...                                                ...\n",
              "18708  16411584  ...  0101000020E61000005AF10D85CFC61340D5EC8156602E...\n",
              "18709  12886265  ...  0101000020E6100000787E5182FE621340B83B6BB75D2C...\n",
              "18714  19203256  ...  0101000020E6100000950D6B2A8BD213400A0F9A5DF728...\n",
              "18715  19734178  ...  0101000020E61000003677F4BF5C2B13407A354069A82D...\n",
              "18720  19859427  ...  0101000020E61000002079E750865A1340C85F5AD42731...\n",
              "\n",
              "[5721 rows x 20 columns]"
            ]
          },
          "metadata": {
            "tags": []
          },
          "execution_count": 171
        }
      ]
    },
    {
      "cell_type": "code",
      "metadata": {
        "colab": {
          "base_uri": "https://localhost:8080/",
          "height": 317
        },
        "id": "9mSUYsoxhxKL",
        "outputId": "3f320bb8-08b8-4456-ab16-48cc351240f8"
      },
      "source": [
        "zero_satisfaction.describe()"
      ],
      "execution_count": 172,
      "outputs": [
        {
          "output_type": "execute_result",
          "data": {
            "text/html": [
              "<div>\n",
              "<style scoped>\n",
              "    .dataframe tbody tr th:only-of-type {\n",
              "        vertical-align: middle;\n",
              "    }\n",
              "\n",
              "    .dataframe tbody tr th {\n",
              "        vertical-align: top;\n",
              "    }\n",
              "\n",
              "    .dataframe thead th {\n",
              "        text-align: right;\n",
              "    }\n",
              "</style>\n",
              "<table border=\"1\" class=\"dataframe\">\n",
              "  <thead>\n",
              "    <tr style=\"text-align: right;\">\n",
              "      <th></th>\n",
              "      <th>room_id</th>\n",
              "      <th>survey_id</th>\n",
              "      <th>host_id</th>\n",
              "      <th>country</th>\n",
              "      <th>borough</th>\n",
              "      <th>reviews</th>\n",
              "      <th>overall_satisfaction</th>\n",
              "      <th>accommodates</th>\n",
              "      <th>bedrooms</th>\n",
              "      <th>bathrooms</th>\n",
              "      <th>price</th>\n",
              "      <th>minstay</th>\n",
              "      <th>latitude</th>\n",
              "      <th>longitude</th>\n",
              "    </tr>\n",
              "  </thead>\n",
              "  <tbody>\n",
              "    <tr>\n",
              "      <th>count</th>\n",
              "      <td>5.721000e+03</td>\n",
              "      <td>5721.0</td>\n",
              "      <td>5.721000e+03</td>\n",
              "      <td>0.0</td>\n",
              "      <td>0.0</td>\n",
              "      <td>5721.000000</td>\n",
              "      <td>5721.0</td>\n",
              "      <td>5721.000000</td>\n",
              "      <td>5721.000000</td>\n",
              "      <td>0.0</td>\n",
              "      <td>5721.000000</td>\n",
              "      <td>0.0</td>\n",
              "      <td>5721.000000</td>\n",
              "      <td>5721.000000</td>\n",
              "    </tr>\n",
              "    <tr>\n",
              "      <th>mean</th>\n",
              "      <td>1.472219e+07</td>\n",
              "      <td>1476.0</td>\n",
              "      <td>4.674155e+07</td>\n",
              "      <td>NaN</td>\n",
              "      <td>NaN</td>\n",
              "      <td>0.700926</td>\n",
              "      <td>0.0</td>\n",
              "      <td>3.024821</td>\n",
              "      <td>1.554623</td>\n",
              "      <td>NaN</td>\n",
              "      <td>175.620696</td>\n",
              "      <td>NaN</td>\n",
              "      <td>52.364361</td>\n",
              "      <td>4.889534</td>\n",
              "    </tr>\n",
              "    <tr>\n",
              "      <th>std</th>\n",
              "      <td>5.209774e+06</td>\n",
              "      <td>0.0</td>\n",
              "      <td>4.424869e+07</td>\n",
              "      <td>NaN</td>\n",
              "      <td>NaN</td>\n",
              "      <td>0.814133</td>\n",
              "      <td>0.0</td>\n",
              "      <td>1.352056</td>\n",
              "      <td>0.949345</td>\n",
              "      <td>NaN</td>\n",
              "      <td>140.020220</td>\n",
              "      <td>NaN</td>\n",
              "      <td>0.015795</td>\n",
              "      <td>0.036742</td>\n",
              "    </tr>\n",
              "    <tr>\n",
              "      <th>min</th>\n",
              "      <td>2.542800e+04</td>\n",
              "      <td>1476.0</td>\n",
              "      <td>2.234000e+03</td>\n",
              "      <td>NaN</td>\n",
              "      <td>NaN</td>\n",
              "      <td>0.000000</td>\n",
              "      <td>0.0</td>\n",
              "      <td>1.000000</td>\n",
              "      <td>0.000000</td>\n",
              "      <td>NaN</td>\n",
              "      <td>22.000000</td>\n",
              "      <td>NaN</td>\n",
              "      <td>52.296200</td>\n",
              "      <td>4.771083</td>\n",
              "    </tr>\n",
              "    <tr>\n",
              "      <th>25%</th>\n",
              "      <td>1.150164e+07</td>\n",
              "      <td>1476.0</td>\n",
              "      <td>9.749992e+06</td>\n",
              "      <td>NaN</td>\n",
              "      <td>NaN</td>\n",
              "      <td>0.000000</td>\n",
              "      <td>0.0</td>\n",
              "      <td>2.000000</td>\n",
              "      <td>1.000000</td>\n",
              "      <td>NaN</td>\n",
              "      <td>114.000000</td>\n",
              "      <td>NaN</td>\n",
              "      <td>52.353951</td>\n",
              "      <td>4.862918</td>\n",
              "    </tr>\n",
              "    <tr>\n",
              "      <th>50%</th>\n",
              "      <td>1.643578e+07</td>\n",
              "      <td>1476.0</td>\n",
              "      <td>2.962380e+07</td>\n",
              "      <td>NaN</td>\n",
              "      <td>NaN</td>\n",
              "      <td>0.000000</td>\n",
              "      <td>0.0</td>\n",
              "      <td>2.000000</td>\n",
              "      <td>1.000000</td>\n",
              "      <td>NaN</td>\n",
              "      <td>150.000000</td>\n",
              "      <td>NaN</td>\n",
              "      <td>52.363567</td>\n",
              "      <td>4.886634</td>\n",
              "    </tr>\n",
              "    <tr>\n",
              "      <th>75%</th>\n",
              "      <td>1.917347e+07</td>\n",
              "      <td>1476.0</td>\n",
              "      <td>7.652614e+07</td>\n",
              "      <td>NaN</td>\n",
              "      <td>NaN</td>\n",
              "      <td>1.000000</td>\n",
              "      <td>0.0</td>\n",
              "      <td>4.000000</td>\n",
              "      <td>2.000000</td>\n",
              "      <td>NaN</td>\n",
              "      <td>209.000000</td>\n",
              "      <td>NaN</td>\n",
              "      <td>52.374183</td>\n",
              "      <td>4.909861</td>\n",
              "    </tr>\n",
              "    <tr>\n",
              "      <th>max</th>\n",
              "      <td>2.000373e+07</td>\n",
              "      <td>1476.0</td>\n",
              "      <td>1.418319e+08</td>\n",
              "      <td>NaN</td>\n",
              "      <td>NaN</td>\n",
              "      <td>5.000000</td>\n",
              "      <td>0.0</td>\n",
              "      <td>16.000000</td>\n",
              "      <td>10.000000</td>\n",
              "      <td>NaN</td>\n",
              "      <td>6000.000000</td>\n",
              "      <td>NaN</td>\n",
              "      <td>52.424980</td>\n",
              "      <td>5.013075</td>\n",
              "    </tr>\n",
              "  </tbody>\n",
              "</table>\n",
              "</div>"
            ],
            "text/plain": [
              "            room_id  survey_id       host_id  ...  minstay     latitude    longitude\n",
              "count  5.721000e+03     5721.0  5.721000e+03  ...      0.0  5721.000000  5721.000000\n",
              "mean   1.472219e+07     1476.0  4.674155e+07  ...      NaN    52.364361     4.889534\n",
              "std    5.209774e+06        0.0  4.424869e+07  ...      NaN     0.015795     0.036742\n",
              "min    2.542800e+04     1476.0  2.234000e+03  ...      NaN    52.296200     4.771083\n",
              "25%    1.150164e+07     1476.0  9.749992e+06  ...      NaN    52.353951     4.862918\n",
              "50%    1.643578e+07     1476.0  2.962380e+07  ...      NaN    52.363567     4.886634\n",
              "75%    1.917347e+07     1476.0  7.652614e+07  ...      NaN    52.374183     4.909861\n",
              "max    2.000373e+07     1476.0  1.418319e+08  ...      NaN    52.424980     5.013075\n",
              "\n",
              "[8 rows x 14 columns]"
            ]
          },
          "metadata": {
            "tags": []
          },
          "execution_count": 172
        }
      ]
    },
    {
      "cell_type": "markdown",
      "metadata": {
        "id": "lbwtCU7NltLk"
      },
      "source": [
        "### Overall satisfaction for different no. of bedrooms"
      ]
    },
    {
      "cell_type": "code",
      "metadata": {
        "colab": {
          "base_uri": "https://localhost:8080/"
        },
        "id": "OpkqV0UBezhB",
        "outputId": "35b7fcb4-7b9c-429c-d375-6bc8f9f4de41"
      },
      "source": [
        "overall_satisfaction = df['overall_satisfaction'].groupby(by=df['bedrooms'])\n",
        "overall_satisfaction.sum()"
      ],
      "execution_count": 173,
      "outputs": [
        {
          "output_type": "execute_result",
          "data": {
            "text/plain": [
              "bedrooms\n",
              "0.0      3828.5\n",
              "1.0     38191.5\n",
              "2.0     14165.5\n",
              "3.0      3880.0\n",
              "4.0      1251.0\n",
              "5.0       223.5\n",
              "6.0        65.5\n",
              "7.0         9.5\n",
              "8.0         9.0\n",
              "9.0         5.0\n",
              "10.0       19.5\n",
              "Name: overall_satisfaction, dtype: float64"
            ]
          },
          "metadata": {
            "tags": []
          },
          "execution_count": 173
        }
      ]
    },
    {
      "cell_type": "markdown",
      "metadata": {
        "id": "zSvcwlpdnMzZ"
      },
      "source": [
        "### Overall satisfaction where price greater than equal to 150 and less than 180"
      ]
    },
    {
      "cell_type": "code",
      "metadata": {
        "colab": {
          "base_uri": "https://localhost:8080/"
        },
        "id": "-JMp52FemUaX",
        "outputId": "80d4dc4b-b195-4cd2-8289-a77618b22fad"
      },
      "source": [
        "df.overall_satisfaction[df['price'].between(150,179, inclusive=True)].count()"
      ],
      "execution_count": 174,
      "outputs": [
        {
          "output_type": "execute_result",
          "data": {
            "text/plain": [
              "2805"
            ]
          },
          "metadata": {
            "tags": []
          },
          "execution_count": 174
        }
      ]
    },
    {
      "cell_type": "markdown",
      "metadata": {
        "id": "SbHYIIinBy6p"
      },
      "source": [
        "### To see where is the most availability in terms of accomodates"
      ]
    },
    {
      "cell_type": "code",
      "metadata": {
        "colab": {
          "base_uri": "https://localhost:8080/"
        },
        "id": "a64wKdyWB1PL",
        "outputId": "30bb53fd-0916-477f-ec22-97d75fb31892"
      },
      "source": [
        "df['accommodates'].value_counts()"
      ],
      "execution_count": 175,
      "outputs": [
        {
          "output_type": "execute_result",
          "data": {
            "text/plain": [
              "2     9996\n",
              "4     5563\n",
              "3     1583\n",
              "6      475\n",
              "5      470\n",
              "1      355\n",
              "8      105\n",
              "7       52\n",
              "16      18\n",
              "10      16\n",
              "12       9\n",
              "9        8\n",
              "14       6\n",
              "11       2\n",
              "13       1\n",
              "17       1\n",
              "Name: accommodates, dtype: int64"
            ]
          },
          "metadata": {
            "tags": []
          },
          "execution_count": 175
        }
      ]
    },
    {
      "cell_type": "markdown",
      "metadata": {
        "id": "RVPOEOrVCQNj"
      },
      "source": [
        "### To see at what price most properties are available"
      ]
    },
    {
      "cell_type": "code",
      "metadata": {
        "colab": {
          "base_uri": "https://localhost:8080/"
        },
        "id": "LB-0fTNaCYaR",
        "outputId": "2299426a-1c9d-4918-fc2c-2dbe851d8ae8"
      },
      "source": [
        "df['price'].describe()"
      ],
      "execution_count": 176,
      "outputs": [
        {
          "output_type": "execute_result",
          "data": {
            "text/plain": [
              "count    18660.000000\n",
              "mean       166.811897\n",
              "std        108.961385\n",
              "min         12.000000\n",
              "25%        108.000000\n",
              "50%        144.000000\n",
              "75%        192.000000\n",
              "max       6000.000000\n",
              "Name: price, dtype: float64"
            ]
          },
          "metadata": {
            "tags": []
          },
          "execution_count": 176
        }
      ]
    },
    {
      "cell_type": "markdown",
      "metadata": {
        "id": "3UPY2KsVXhsv"
      },
      "source": [
        "#### Only 23 records have price greater than 1000"
      ]
    },
    {
      "cell_type": "code",
      "metadata": {
        "colab": {
          "base_uri": "https://localhost:8080/"
        },
        "id": "19-Dft10VEit",
        "outputId": "df1624fb-fcad-4538-ca0f-0f673a6d444c"
      },
      "source": [
        "df.price[df['price'].between(1000,6000, inclusive=True)].count()"
      ],
      "execution_count": 177,
      "outputs": [
        {
          "output_type": "execute_result",
          "data": {
            "text/plain": [
              "23"
            ]
          },
          "metadata": {
            "tags": []
          },
          "execution_count": 177
        }
      ]
    },
    {
      "cell_type": "markdown",
      "metadata": {
        "id": "79UxIElcyB7s"
      },
      "source": [
        "### Proportion of each bedroom value"
      ]
    },
    {
      "cell_type": "code",
      "metadata": {
        "colab": {
          "base_uri": "https://localhost:8080/"
        },
        "id": "OPTKHASMx7Vb",
        "outputId": "8c7b852c-58b2-4331-c3a5-ee49811118f4"
      },
      "source": [
        "df_bedroom = df['bedrooms']\n",
        "df_count = df_bedroom.groupby([df['bedrooms']]).count()\n",
        "df_sum = df_count.sum()\n",
        "df_groups = df_count.apply(lambda x: 100*x/df_sum)\n",
        "df_groups"
      ],
      "execution_count": 178,
      "outputs": [
        {
          "output_type": "execute_result",
          "data": {
            "text/plain": [
              "bedrooms\n",
              "0.0      6.184352\n",
              "1.0     59.153269\n",
              "2.0     23.879957\n",
              "3.0      7.738478\n",
              "4.0      2.534834\n",
              "5.0      0.332262\n",
              "6.0      0.101822\n",
              "7.0      0.021436\n",
              "8.0      0.016077\n",
              "9.0      0.010718\n",
              "10.0     0.026795\n",
              "Name: bedrooms, dtype: float64"
            ]
          },
          "metadata": {
            "tags": []
          },
          "execution_count": 178
        }
      ]
    },
    {
      "cell_type": "markdown",
      "metadata": {
        "id": "beKA96AhXq0s"
      },
      "source": [
        "### Dropping all 0 bedroom records"
      ]
    },
    {
      "cell_type": "code",
      "metadata": {
        "id": "Uxe4LHCAaOBg"
      },
      "source": [
        "df = df[df['bedrooms']!=0]"
      ],
      "execution_count": 179,
      "outputs": []
    },
    {
      "cell_type": "markdown",
      "metadata": {
        "id": "m4hf12001Ls9"
      },
      "source": [
        "### Histogram showing no.of apartments having 0-100 reviews"
      ]
    },
    {
      "cell_type": "code",
      "metadata": {
        "colab": {
          "base_uri": "https://localhost:8080/",
          "height": 282
        },
        "id": "2084-cqSzUfc",
        "outputId": "66dc1ad0-973f-40aa-d06c-cd3c71d39445"
      },
      "source": [
        "df['reviews'].hist(bins=20, range = [0,100])"
      ],
      "execution_count": 180,
      "outputs": [
        {
          "output_type": "execute_result",
          "data": {
            "text/plain": [
              "<matplotlib.axes._subplots.AxesSubplot at 0x7f0ebc82a290>"
            ]
          },
          "metadata": {
            "tags": []
          },
          "execution_count": 180
        },
        {
          "output_type": "display_data",
          "data": {
            "image/png": "[encoded data removed]",
            "text/plain": [
              "<Figure size 432x288 with 1 Axes>"
            ]
          },
          "metadata": {
            "tags": [],
            "needs_background": "light"
          }
        }
      ]
    },
    {
      "cell_type": "markdown",
      "metadata": {
        "id": "B09cl64i2qfZ"
      },
      "source": [
        "### Histogram showing no.of apartments having 0-1000 reviews"
      ]
    },
    {
      "cell_type": "code",
      "metadata": {
        "colab": {
          "base_uri": "https://localhost:8080/",
          "height": 282
        },
        "id": "1RiNV_Hc2Kfo",
        "outputId": "88952d51-1e02-4cfb-e416-95af49618cbc"
      },
      "source": [
        "df['reviews'].hist(bins=20, range = [0,1000])"
      ],
      "execution_count": 181,
      "outputs": [
        {
          "output_type": "execute_result",
          "data": {
            "text/plain": [
              "<matplotlib.axes._subplots.AxesSubplot at 0x7f0eb76dd290>"
            ]
          },
          "metadata": {
            "tags": []
          },
          "execution_count": 181
        },
        {
          "output_type": "display_data",
          "data": {
            "image/png": "[encoded data removed]",
            "text/plain": [
              "<Figure size 432x288 with 1 Axes>"
            ]
          },
          "metadata": {
            "tags": [],
            "needs_background": "light"
          }
        }
      ]
    },
    {
      "cell_type": "markdown",
      "metadata": {
        "id": "PQQyLhX03kve"
      },
      "source": [
        ""
      ]
    },
    {
      "cell_type": "code",
      "metadata": {
        "colab": {
          "base_uri": "https://localhost:8080/",
          "height": 282
        },
        "id": "QnimeWLb2vCt",
        "outputId": "c1127950-8971-4ce7-b569-476a616a20b9"
      },
      "source": [
        "df['accommodates'].hist(bins=16)"
      ],
      "execution_count": 182,
      "outputs": [
        {
          "output_type": "execute_result",
          "data": {
            "text/plain": [
              "<matplotlib.axes._subplots.AxesSubplot at 0x7f0eb6bb3250>"
            ]
          },
          "metadata": {
            "tags": []
          },
          "execution_count": 182
        },
        {
          "output_type": "display_data",
          "data": {
            "image/png": "[encoded data removed]",
            "text/plain": [
              "<Figure size 432x288 with 1 Axes>"
            ]
          },
          "metadata": {
            "tags": [],
            "needs_background": "light"
          }
        }
      ]
    },
    {
      "cell_type": "code",
      "metadata": {
        "colab": {
          "base_uri": "https://localhost:8080/",
          "height": 285
        },
        "id": "PssekebI3t_5",
        "outputId": "b6509f7b-ef97-470f-ec20-c87632cbb20b"
      },
      "source": [
        "df['overall_satisfaction'].hist()"
      ],
      "execution_count": 183,
      "outputs": [
        {
          "output_type": "execute_result",
          "data": {
            "text/plain": [
              "<matplotlib.axes._subplots.AxesSubplot at 0x7f0eb6a87b50>"
            ]
          },
          "metadata": {
            "tags": []
          },
          "execution_count": 183
        },
        {
          "output_type": "display_data",
          "data": {
            "image/png": "[encoded data removed]",
            "text/plain": [
              "<Figure size 432x288 with 1 Axes>"
            ]
          },
          "metadata": {
            "tags": [],
            "needs_background": "light"
          }
        }
      ]
    },
    {
      "cell_type": "code",
      "metadata": {
        "colab": {
          "base_uri": "https://localhost:8080/",
          "height": 282
        },
        "id": "Ojc2G-vf5d7w",
        "outputId": "ba75c604-9d67-4b5c-a066-074cfdd3b8f4"
      },
      "source": [
        "df_price1 = df[df['price'].between(100,200,inclusive=True)]\n",
        "df_price1['overall_satisfaction'].hist()"
      ],
      "execution_count": 184,
      "outputs": [
        {
          "output_type": "execute_result",
          "data": {
            "text/plain": [
              "<matplotlib.axes._subplots.AxesSubplot at 0x7f0eb6dd8cd0>"
            ]
          },
          "metadata": {
            "tags": []
          },
          "execution_count": 184
        },
        {
          "output_type": "display_data",
          "data": {
            "image/png": "[encoded data removed]",
            "text/plain": [
              "<Figure size 432x288 with 1 Axes>"
            ]
          },
          "metadata": {
            "tags": [],
            "needs_background": "light"
          }
        }
      ]
    },
    {
      "cell_type": "code",
      "metadata": {
        "colab": {
          "base_uri": "https://localhost:8080/",
          "height": 282
        },
        "id": "8aqXt7X5_kfp",
        "outputId": "914b681b-d0a8-4c9b-dfcc-236355f850ab"
      },
      "source": [
        "df_price2 = df[df['price']<50]\n",
        "df_price2['overall_satisfaction'].hist()"
      ],
      "execution_count": 185,
      "outputs": [
        {
          "output_type": "execute_result",
          "data": {
            "text/plain": [
              "<matplotlib.axes._subplots.AxesSubplot at 0x7f0eb5c124d0>"
            ]
          },
          "metadata": {
            "tags": []
          },
          "execution_count": 185
        },
        {
          "output_type": "display_data",
          "data": {
            "image/png": "[encoded data removed]",
            "text/plain": [
              "<Figure size 432x288 with 1 Axes>"
            ]
          },
          "metadata": {
            "tags": [],
            "needs_background": "light"
          }
        }
      ]
    },
    {
      "cell_type": "code",
      "metadata": {
        "colab": {
          "base_uri": "https://localhost:8080/",
          "height": 282
        },
        "id": "2eXuJdpbAId3",
        "outputId": "94293243-43ac-4600-e366-4aa2012500a4"
      },
      "source": [
        "df_price3 = df[df['price']>200]\n",
        "df_price3['overall_satisfaction'].hist()"
      ],
      "execution_count": 186,
      "outputs": [
        {
          "output_type": "execute_result",
          "data": {
            "text/plain": [
              "<matplotlib.axes._subplots.AxesSubplot at 0x7f0eb4395710>"
            ]
          },
          "metadata": {
            "tags": []
          },
          "execution_count": 186
        },
        {
          "output_type": "display_data",
          "data": {
            "image/png": "[encoded data removed]",
            "text/plain": [
              "<Figure size 432x288 with 1 Axes>"
            ]
          },
          "metadata": {
            "tags": [],
            "needs_background": "light"
          }
        }
      ]
    },
    {
      "cell_type": "code",
      "metadata": {
        "colab": {
          "base_uri": "https://localhost:8080/",
          "height": 282
        },
        "id": "egnUe1LmAka5",
        "outputId": "313db4d4-0b25-4030-c7f6-68490728613d"
      },
      "source": [
        "df_price4 = df[df['price']>300]\n",
        "df_price4['overall_satisfaction'].hist()"
      ],
      "execution_count": 187,
      "outputs": [
        {
          "output_type": "execute_result",
          "data": {
            "text/plain": [
              "<matplotlib.axes._subplots.AxesSubplot at 0x7f0eb407cfd0>"
            ]
          },
          "metadata": {
            "tags": []
          },
          "execution_count": 187
        },
        {
          "output_type": "display_data",
          "data": {
            "image/png": "[encoded data removed]",
            "text/plain": [
              "<Figure size 432x288 with 1 Axes>"
            ]
          },
          "metadata": {
            "tags": [],
            "needs_background": "light"
          }
        }
      ]
    },
    {
      "cell_type": "markdown",
      "metadata": {
        "id": "ChnoG4isFSNB"
      },
      "source": [
        "### Relation between Price and Reviews"
      ]
    },
    {
      "cell_type": "code",
      "metadata": {
        "colab": {
          "base_uri": "https://localhost:8080/"
        },
        "id": "nQ-MOCunBegL",
        "outputId": "ba4bbe0d-beeb-4abb-e2fa-ba34bd08f28f"
      },
      "source": [
        "price_reviews_corr = df['price'].corr(df['reviews'])\n",
        "price_reviews_corr"
      ],
      "execution_count": 188,
      "outputs": [
        {
          "output_type": "execute_result",
          "data": {
            "text/plain": [
              "-0.08376509499293573"
            ]
          },
          "metadata": {
            "tags": []
          },
          "execution_count": 188
        }
      ]
    },
    {
      "cell_type": "markdown",
      "metadata": {
        "id": "8IkDuM_wFYmk"
      },
      "source": [
        "### Relation between Accomodates and Price"
      ]
    },
    {
      "cell_type": "code",
      "metadata": {
        "colab": {
          "base_uri": "https://localhost:8080/"
        },
        "id": "9JOmm3_zB_n9",
        "outputId": "8ae8b545-57ad-4a2f-919d-c7e33867ece8"
      },
      "source": [
        "acc_price_corr = df['accommodates'].corr(df['price'])\n",
        "acc_price_corr"
      ],
      "execution_count": 189,
      "outputs": [
        {
          "output_type": "execute_result",
          "data": {
            "text/plain": [
              "0.5020703820281404"
            ]
          },
          "metadata": {
            "tags": []
          },
          "execution_count": 189
        }
      ]
    },
    {
      "cell_type": "markdown",
      "metadata": {
        "id": "ZjQqifETF16V"
      },
      "source": [
        "### Relation between Overall Satisfaction and Price"
      ]
    },
    {
      "cell_type": "code",
      "metadata": {
        "colab": {
          "base_uri": "https://localhost:8080/"
        },
        "id": "j_nLqRPACqm1",
        "outputId": "d91e11af-b41d-4134-bb8e-0017c8ae405c"
      },
      "source": [
        "satisfaction_price_corr = df['overall_satisfaction'].corr(df['price'])\n",
        "satisfaction_price_corr"
      ],
      "execution_count": 190,
      "outputs": [
        {
          "output_type": "execute_result",
          "data": {
            "text/plain": [
              "-0.04664160003911666"
            ]
          },
          "metadata": {
            "tags": []
          },
          "execution_count": 190
        }
      ]
    },
    {
      "cell_type": "markdown",
      "metadata": {
        "id": "Ykh94HnHGsNe"
      },
      "source": [
        "### Relation between Bedrooms and Price"
      ]
    },
    {
      "cell_type": "code",
      "metadata": {
        "colab": {
          "base_uri": "https://localhost:8080/"
        },
        "id": "F36SD2jrIYkL",
        "outputId": "27477214-8e3a-4cdf-a1c8-f7f2e3d92005"
      },
      "source": [
        "bedrooms_price_corr = df['bedrooms'].corr(df['price']) \n",
        "bedrooms_price_corr"
      ],
      "execution_count": 191,
      "outputs": [
        {
          "output_type": "execute_result",
          "data": {
            "text/plain": [
              "0.4587740137423908"
            ]
          },
          "metadata": {
            "tags": []
          },
          "execution_count": 191
        }
      ]
    },
    {
      "cell_type": "markdown",
      "metadata": {
        "id": "oMiIV6LjH-of"
      },
      "source": [
        "### Availability based on neighbourhood"
      ]
    },
    {
      "cell_type": "code",
      "metadata": {
        "colab": {
          "base_uri": "https://localhost:8080/",
          "height": 282
        },
        "id": "7HX1gQNwHdf0",
        "outputId": "f0ebce62-9c1d-469a-c601-8ce08e5b810a"
      },
      "source": [
        "df['neighborhood'].value_counts().plot(kind='barh')"
      ],
      "execution_count": 192,
      "outputs": [
        {
          "output_type": "execute_result",
          "data": {
            "text/plain": [
              "<matplotlib.axes._subplots.AxesSubplot at 0x7f0eb3e8d610>"
            ]
          },
          "metadata": {
            "tags": []
          },
          "execution_count": 192
        },
        {
          "output_type": "display_data",
          "data": {
            "image/png": "[encoded data removed]",
            "text/plain": [
              "<Figure size 432x288 with 1 Axes>"
            ]
          },
          "metadata": {
            "tags": [],
            "needs_background": "light"
          }
        }
      ]
    },
    {
      "cell_type": "code",
      "metadata": {
        "colab": {
          "base_uri": "https://localhost:8080/",
          "height": 428
        },
        "id": "qeBK7fakJQ_3",
        "outputId": "b34f0dd0-b820-4c23-8b45-f566c12da489"
      },
      "source": [
        "df.head()"
      ],
      "execution_count": 193,
      "outputs": [
        {
          "output_type": "execute_result",
          "data": {
            "text/html": [
              "<div>\n",
              "<style scoped>\n",
              "    .dataframe tbody tr th:only-of-type {\n",
              "        vertical-align: middle;\n",
              "    }\n",
              "\n",
              "    .dataframe tbody tr th {\n",
              "        vertical-align: top;\n",
              "    }\n",
              "\n",
              "    .dataframe thead th {\n",
              "        text-align: right;\n",
              "    }\n",
              "</style>\n",
              "<table border=\"1\" class=\"dataframe\">\n",
              "  <thead>\n",
              "    <tr style=\"text-align: right;\">\n",
              "      <th></th>\n",
              "      <th>room_id</th>\n",
              "      <th>survey_id</th>\n",
              "      <th>host_id</th>\n",
              "      <th>room_type</th>\n",
              "      <th>country</th>\n",
              "      <th>city</th>\n",
              "      <th>borough</th>\n",
              "      <th>neighborhood</th>\n",
              "      <th>reviews</th>\n",
              "      <th>overall_satisfaction</th>\n",
              "      <th>accommodates</th>\n",
              "      <th>bedrooms</th>\n",
              "      <th>bathrooms</th>\n",
              "      <th>price</th>\n",
              "      <th>minstay</th>\n",
              "      <th>name</th>\n",
              "      <th>last_modified</th>\n",
              "      <th>latitude</th>\n",
              "      <th>longitude</th>\n",
              "      <th>location</th>\n",
              "    </tr>\n",
              "  </thead>\n",
              "  <tbody>\n",
              "    <tr>\n",
              "      <th>33</th>\n",
              "      <td>10201214</td>\n",
              "      <td>1476</td>\n",
              "      <td>8497487</td>\n",
              "      <td>Entire home/apt</td>\n",
              "      <td>NaN</td>\n",
              "      <td>Amsterdam</td>\n",
              "      <td>NaN</td>\n",
              "      <td>Ijburg / Eiland Zeeburg</td>\n",
              "      <td>19</td>\n",
              "      <td>5.0</td>\n",
              "      <td>8</td>\n",
              "      <td>4.0</td>\n",
              "      <td>NaN</td>\n",
              "      <td>763.0</td>\n",
              "      <td>NaN</td>\n",
              "      <td>Beautiful Watervilla in Amsterdam</td>\n",
              "      <td>2017-07-23 13:02:10.468528</td>\n",
              "      <td>52.348254</td>\n",
              "      <td>5.001477</td>\n",
              "      <td>0101000020E6100000E7C8CA2F83011440C0594A96932C...</td>\n",
              "    </tr>\n",
              "    <tr>\n",
              "      <th>34</th>\n",
              "      <td>3119298</td>\n",
              "      <td>1476</td>\n",
              "      <td>15847782</td>\n",
              "      <td>Entire home/apt</td>\n",
              "      <td>NaN</td>\n",
              "      <td>Amsterdam</td>\n",
              "      <td>NaN</td>\n",
              "      <td>Westerpark</td>\n",
              "      <td>1</td>\n",
              "      <td>0.0</td>\n",
              "      <td>8</td>\n",
              "      <td>3.0</td>\n",
              "      <td>NaN</td>\n",
              "      <td>445.0</td>\n",
              "      <td>NaN</td>\n",
              "      <td>Modern 5-8 person apartment</td>\n",
              "      <td>2017-07-23 12:58:15.945759</td>\n",
              "      <td>52.377581</td>\n",
              "      <td>4.873119</td>\n",
              "      <td>0101000020E61000009D103AE8127E1340A54BFF925430...</td>\n",
              "    </tr>\n",
              "    <tr>\n",
              "      <th>35</th>\n",
              "      <td>5372074</td>\n",
              "      <td>1476</td>\n",
              "      <td>14390964</td>\n",
              "      <td>Entire home/apt</td>\n",
              "      <td>NaN</td>\n",
              "      <td>Amsterdam</td>\n",
              "      <td>NaN</td>\n",
              "      <td>Centrum West</td>\n",
              "      <td>10</td>\n",
              "      <td>5.0</td>\n",
              "      <td>4</td>\n",
              "      <td>3.0</td>\n",
              "      <td>NaN</td>\n",
              "      <td>721.0</td>\n",
              "      <td>NaN</td>\n",
              "      <td>Prinsengracht Appartement</td>\n",
              "      <td>2017-07-23 12:52:40.980471</td>\n",
              "      <td>52.373078</td>\n",
              "      <td>4.884269</td>\n",
              "      <td>0101000020E61000006C770FD07D891340B56D1805C12F...</td>\n",
              "    </tr>\n",
              "    <tr>\n",
              "      <th>36</th>\n",
              "      <td>10511291</td>\n",
              "      <td>1476</td>\n",
              "      <td>5421078</td>\n",
              "      <td>Entire home/apt</td>\n",
              "      <td>NaN</td>\n",
              "      <td>Amsterdam</td>\n",
              "      <td>NaN</td>\n",
              "      <td>Watergraafsmeer</td>\n",
              "      <td>1</td>\n",
              "      <td>0.0</td>\n",
              "      <td>8</td>\n",
              "      <td>3.0</td>\n",
              "      <td>NaN</td>\n",
              "      <td>1412.0</td>\n",
              "      <td>NaN</td>\n",
              "      <td>Whole house 200m2 Frankendael Park</td>\n",
              "      <td>2017-07-23 12:30:42.249974</td>\n",
              "      <td>52.350968</td>\n",
              "      <td>4.929821</td>\n",
              "      <td>0101000020E61000003B8908FF22B81340A5F8F884EC2C...</td>\n",
              "    </tr>\n",
              "    <tr>\n",
              "      <th>37</th>\n",
              "      <td>18047871</td>\n",
              "      <td>1476</td>\n",
              "      <td>9302267</td>\n",
              "      <td>Entire home/apt</td>\n",
              "      <td>NaN</td>\n",
              "      <td>Amsterdam</td>\n",
              "      <td>NaN</td>\n",
              "      <td>Centrum West</td>\n",
              "      <td>0</td>\n",
              "      <td>0.0</td>\n",
              "      <td>4</td>\n",
              "      <td>4.0</td>\n",
              "      <td>NaN</td>\n",
              "      <td>541.0</td>\n",
              "      <td>NaN</td>\n",
              "      <td>Great 4 bedroom apartment at the flower market</td>\n",
              "      <td>2017-07-23 12:30:27.637777</td>\n",
              "      <td>52.367890</td>\n",
              "      <td>4.889273</td>\n",
              "      <td>0101000020E6100000FDDCD0949D8E13404243FF04172F...</td>\n",
              "    </tr>\n",
              "  </tbody>\n",
              "</table>\n",
              "</div>"
            ],
            "text/plain": [
              "     room_id  ...                                           location\n",
              "33  10201214  ...  0101000020E6100000E7C8CA2F83011440C0594A96932C...\n",
              "34   3119298  ...  0101000020E61000009D103AE8127E1340A54BFF925430...\n",
              "35   5372074  ...  0101000020E61000006C770FD07D891340B56D1805C12F...\n",
              "36  10511291  ...  0101000020E61000003B8908FF22B81340A5F8F884EC2C...\n",
              "37  18047871  ...  0101000020E6100000FDDCD0949D8E13404243FF04172F...\n",
              "\n",
              "[5 rows x 20 columns]"
            ]
          },
          "metadata": {
            "tags": []
          },
          "execution_count": 193
        }
      ]
    },
    {
      "cell_type": "code",
      "metadata": {
        "id": "H8HV_kLvKOGS"
      },
      "source": [
        ""
      ],
      "execution_count": 193,
      "outputs": []
    }
  ]
}